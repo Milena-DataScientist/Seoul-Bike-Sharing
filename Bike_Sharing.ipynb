{
  "nbformat": 4,
  "nbformat_minor": 0,
  "metadata": {
    "colab": {
      "provenance": [],
      "collapsed_sections": [
        "RUjQ1VdFTBg7",
        "o6eLrxS_oitD",
        "ESI7D6ItoukF",
        "wQtnAuVIo1SR",
        "F_TavgZYo9ba",
        "Ei9kG_g7p4rm",
        "1aP6Zt9DpFJL",
        "LFipr5oDsMQN",
        "XqMPwj5sw3wk",
        "K_Sy4bRTwEIW",
        "wzMIAukoxmH1",
        "sw_TAObn021k",
        "58V3V0f32nG9",
        "aF0TPLCH5uzX",
        "31XDvmyy2uwp",
        "oN39Gkp3oZDu",
        "hMjWZLpEGcnK",
        "m_qeVq_CGcnL",
        "huj-hOTfGcnL",
        "5Y1IoFVjFNYr",
        "-X5b-CnuFNYr",
        "DNC4lzBbFNYs",
        "qKyoLaJ3FNYs",
        "HhGYQkvuFNYs",
        "8zx6536YJDdb",
        "bYEgTT7bKBa4"
      ],
      "mount_file_id": "1TUTYex4CL0nZivKXo68yql61kgCCxju4",
      "authorship_tag": "ABX9TyOCfa8rA5kNAmzDho6e7K9k",
      "include_colab_link": true
    },
    "kernelspec": {
      "name": "python3",
      "display_name": "Python 3"
    },
    "language_info": {
      "name": "python"
    }
  },
  "cells": [
    {
      "cell_type": "markdown",
      "metadata": {
        "id": "view-in-github",
        "colab_type": "text"
      },
      "source": [
        "<a href=\"https://colab.research.google.com/github/Milena-DataScientist/BikeSharing/blob/main/Bike_Sharing.ipynb\" target=\"_parent\"><img src=\"https://colab.research.google.com/assets/colab-badge.svg\" alt=\"Open In Colab\"/></a>"
      ]
    },
    {
      "cell_type": "markdown",
      "metadata": {
        "id": "O47XL8Gx_mzG"
      },
      "source": [
        "#  <font color ='pickle'>**Bike Sharing Dataset Location**\n",
        "\n",
        "- You may download the data from following link: https://archive.ics.uci.edu/ml/datasets/Seoul+Bike+Sharing+Demand\n",
        "\n"
      ]
    },
    {
      "cell_type": "markdown",
      "source": [
        "# <font color = 'pickle'>**Import/Install the packages**\n",
        "\n",
        "\n"
      ],
      "metadata": {
        "id": "kll5MfvnPWpI"
      }
    },
    {
      "cell_type": "code",
      "metadata": {
        "id": "Nqlomery0WlC",
        "colab": {
          "base_uri": "https://localhost:8080/"
        },
        "outputId": "a0845197-ab03-4358-f173-a084bf9e79ca"
      },
      "source": [
        "if 'google.colab' in str(get_ipython()):\n",
        "    print('Running on Colab')\n",
        "else:\n",
        "    print('Not Running on Colab')"
      ],
      "execution_count": 1,
      "outputs": [
        {
          "output_type": "stream",
          "name": "stdout",
          "text": [
            "Running on Colab\n"
          ]
        }
      ]
    },
    {
      "cell_type": "code",
      "source": [
        "if 'google.colab' in str(get_ipython()):\n",
        "    from google.colab import drive\n",
        "    drive.mount('/content/drive') "
      ],
      "metadata": {
        "colab": {
          "base_uri": "https://localhost:8080/"
        },
        "id": "YS943LowMRy7",
        "outputId": "bb0619c1-b4df-496f-959a-47284041c697"
      },
      "execution_count": 2,
      "outputs": [
        {
          "output_type": "stream",
          "name": "stdout",
          "text": [
            "Mounted at /content/drive\n"
          ]
        }
      ]
    },
    {
      "cell_type": "code",
      "metadata": {
        "id": "VZ_zLxMs7W_E",
        "jupyter": {
          "outputs_hidden": true
        },
        "colab": {
          "base_uri": "https://localhost:8080/"
        },
        "outputId": "5ea2317b-8ad0-4e64-fb89-934e169f9426"
      },
      "source": [
        "if 'google.colab' in str(get_ipython()):\n",
        "  !pip install --upgrade feature_engine scikit-learn learning -q"
      ],
      "execution_count": 3,
      "outputs": [
        {
          "output_type": "stream",
          "name": "stdout",
          "text": [
            "\u001b[K     |████████████████████████████████| 290 kB 3.0 MB/s \n",
            "\u001b[K     |████████████████████████████████| 31.2 MB 21.1 MB/s \n",
            "\u001b[?25h"
          ]
        }
      ]
    },
    {
      "cell_type": "markdown",
      "source": [
        "# <font color = 'pickle'>**Import/Install the packages**\n"
      ],
      "metadata": {
        "id": "rvYmoiFk4Byk"
      }
    },
    {
      "cell_type": "code",
      "metadata": {
        "execution": {
          "iopub.execute_input": "2021-10-06T18:58:40.818273Z",
          "iopub.status.busy": "2021-10-06T18:58:40.817635Z",
          "iopub.status.idle": "2021-10-06T18:58:41.363494Z",
          "shell.execute_reply": "2021-10-06T18:58:41.363206Z",
          "shell.execute_reply.started": "2021-10-06T18:58:40.818231Z"
        },
        "id": "eKaVwwRgWb1H",
        "tags": []
      },
      "source": [
        "\"\"\"Importing the required packages\"\"\"\n",
        "\n",
        "import feature_engine\n",
        "import sklearn\n",
        "\n",
        "# For DataFrames and manipulations\n",
        "import pandas as pd\n",
        "import numpy as np\n",
        "\n",
        "# For data Visualization\n",
        "import matplotlib.pyplot as plt\n",
        "import seaborn as sns\n",
        "import scipy.stats as stats\n",
        "%matplotlib inline\n",
        "\n",
        "# save and load models\n",
        "import joblib\n",
        "\n",
        "# Pathlib to navigate file system\n",
        "from pathlib import Path\n",
        "import sys\n",
        "\n",
        "# For splitting the dataset\n",
        "from sklearn.model_selection import train_test_split\n",
        "\n",
        "#To drop features\n",
        "from feature_engine.selection import DropFeatures\n",
        "\n",
        "# For categorical variables\n",
        "from feature_engine.encoding import OneHotEncoder\n",
        "\n",
        "# For scaling the data\n",
        "from sklearn.preprocessing import StandardScaler\n",
        "from sklearn.preprocessing import MinMaxScaler\n",
        "\n",
        "\n",
        "# creating pipelines \n",
        "from sklearn.pipeline import Pipeline\n",
        "\n",
        "# Hyper parameter tuning\n",
        "from sklearn.model_selection import GridSearchCV\n",
        "\n",
        "\n",
        "# Using KNN regressor to our data\n",
        "from sklearn.neighbors import KNeighborsRegressor\n",
        "\n",
        "\n",
        "# feature engine log transformation\n",
        "from feature_engine.transformation import YeoJohnsonTransformer\n",
        "\n",
        "#Discretization\n",
        "from sklearn.preprocessing import KBinsDiscretizer\n",
        "\n",
        "#Handling Outliers\n",
        "from feature_engine.outliers import Winsorizer\n",
        "\n",
        "# feature engine wrapper \n",
        "from feature_engine.wrappers import SklearnTransformerWrapper\n",
        "\n",
        "#pipeline graph\n",
        "from sklearn import set_config"
      ],
      "execution_count": 4,
      "outputs": []
    },
    {
      "cell_type": "markdown",
      "source": [
        "# <font color = 'pickle'> **Specify Project Folder Location**"
      ],
      "metadata": {
        "id": "MEUsBSfkMKTy"
      }
    },
    {
      "cell_type": "code",
      "source": [
        "if 'google.colab' in str(get_ipython()):\n",
        "    base_folder = Path('/content/drive/MyDrive/Data/')\n",
        "else:\n",
        "    base_folder = Path('/content/drive/MyDrive/AppliedML/Lecture7')"
      ],
      "metadata": {
        "id": "AbYVFzzYMVn5"
      },
      "execution_count": 5,
      "outputs": []
    },
    {
      "cell_type": "code",
      "source": [
        "data_folder = base_folder/'datasets'\n",
        "save_model_folder = base_folder/'models/ml_fall_2022'\n",
        "custom_function_folder = base_folder/'custom-functions'\n",
        "save_model_folder.mkdir(exist_ok=True, parents=True)"
      ],
      "metadata": {
        "id": "GEx877hTMbqh"
      },
      "execution_count": 6,
      "outputs": []
    },
    {
      "cell_type": "code",
      "source": [
        "%load_ext autoreload\n",
        "%autoreload 2"
      ],
      "metadata": {
        "id": "Ib7-UjzUYY9K"
      },
      "execution_count": 7,
      "outputs": []
    },
    {
      "cell_type": "code",
      "source": [
        "sys.path.append(str(custom_function_folder))"
      ],
      "metadata": {
        "id": "J4_ijFC5YY9K"
      },
      "execution_count": 8,
      "outputs": []
    },
    {
      "cell_type": "code",
      "source": [
        "sys.path"
      ],
      "metadata": {
        "colab": {
          "base_uri": "https://localhost:8080/"
        },
        "outputId": "3d7a3b3a-2bcf-4483-dd5c-dab39c084de4",
        "id": "4oOibZlEYY9K"
      },
      "execution_count": 9,
      "outputs": [
        {
          "output_type": "execute_result",
          "data": {
            "text/plain": [
              "['/content',\n",
              " '/env/python',\n",
              " '/usr/lib/python38.zip',\n",
              " '/usr/lib/python3.8',\n",
              " '/usr/lib/python3.8/lib-dynload',\n",
              " '',\n",
              " '/usr/local/lib/python3.8/dist-packages',\n",
              " '/usr/lib/python3/dist-packages',\n",
              " '/usr/local/lib/python3.8/dist-packages/IPython/extensions',\n",
              " '/root/.ipython',\n",
              " '/content/drive/MyDrive/Data/custom-functions']"
            ]
          },
          "metadata": {},
          "execution_count": 9
        }
      ]
    },
    {
      "cell_type": "code",
      "source": [
        "from plot_learning_curve import plot_learning_curve"
      ],
      "metadata": {
        "id": "Wt7-j3dPYY9K"
      },
      "execution_count": 10,
      "outputs": []
    },
    {
      "cell_type": "code",
      "source": [
        "from eda_plots import diagnostic_plots, plot_target_by_category"
      ],
      "metadata": {
        "id": "h-1xJWpsYY9K"
      },
      "execution_count": 11,
      "outputs": []
    },
    {
      "cell_type": "markdown",
      "source": [
        "# <font color = 'pickle'> **Import Custom Functions from Python file**"
      ],
      "metadata": {
        "id": "PJ9QLnwANtWr"
      }
    },
    {
      "cell_type": "code",
      "source": [
        "%load_ext autoreload\n",
        "%autoreload 2"
      ],
      "metadata": {
        "id": "n36rJZHFMuAg",
        "colab": {
          "base_uri": "https://localhost:8080/"
        },
        "outputId": "91643f52-6bcb-4d47-a192-90cf8b9f4b5f"
      },
      "execution_count": 12,
      "outputs": [
        {
          "output_type": "stream",
          "name": "stdout",
          "text": [
            "The autoreload extension is already loaded. To reload it, use:\n",
            "  %reload_ext autoreload\n"
          ]
        }
      ]
    },
    {
      "cell_type": "code",
      "source": [
        "sys.path.append(str(custom_function_folder))"
      ],
      "metadata": {
        "id": "Ui6jEPgpMuxV"
      },
      "execution_count": 13,
      "outputs": []
    },
    {
      "cell_type": "code",
      "source": [
        "sys.path"
      ],
      "metadata": {
        "colab": {
          "base_uri": "https://localhost:8080/"
        },
        "id": "gtpYU1O7M0OV",
        "outputId": "06c8838d-789e-4893-95cf-65531e09f089"
      },
      "execution_count": 14,
      "outputs": [
        {
          "output_type": "execute_result",
          "data": {
            "text/plain": [
              "['/content',\n",
              " '/env/python',\n",
              " '/usr/lib/python38.zip',\n",
              " '/usr/lib/python3.8',\n",
              " '/usr/lib/python3.8/lib-dynload',\n",
              " '',\n",
              " '/usr/local/lib/python3.8/dist-packages',\n",
              " '/usr/lib/python3/dist-packages',\n",
              " '/usr/local/lib/python3.8/dist-packages/IPython/extensions',\n",
              " '/root/.ipython',\n",
              " '/content/drive/MyDrive/Data/custom-functions',\n",
              " '/content/drive/MyDrive/Data/custom-functions']"
            ]
          },
          "metadata": {},
          "execution_count": 14
        }
      ]
    },
    {
      "cell_type": "code",
      "source": [
        "from plot_learning_curve import plot_learning_curve"
      ],
      "metadata": {
        "id": "sZQyel9-Ra44"
      },
      "execution_count": 15,
      "outputs": []
    },
    {
      "cell_type": "code",
      "source": [
        "from eda_plots import diagnostic_plots, plot_target_by_category"
      ],
      "metadata": {
        "id": "fSOHYEvLRiuf"
      },
      "execution_count": 16,
      "outputs": []
    },
    {
      "cell_type": "markdown",
      "source": [
        "#<font color = 'pickle'> **Obtaining Data** </font>"
      ],
      "metadata": {
        "id": "WQwAlu7xSIVO"
      }
    },
    {
      "cell_type": "markdown",
      "source": [
        "\n",
        "## **<font color ='orange'>Attribute Information:**</font>\n",
        "\n",
        "Attribute description from https://archive.ics.uci.edu/ml/datasets/Seoul+Bike+Sharing+Demand#\n",
        "\n",
        "1. Date : year-month-day\n",
        "2. Rented Bike count - Count of bikes rented at each hour\n",
        "3. Hour - Hour of he day\n",
        "4. Temperature-Temperature in Celsius\n",
        "5. Humidity - %\n",
        "6. Windspeed - m/s\n",
        "7. Visibility - 10m\n",
        "8. Dew point temperature - Celsius\n",
        "9. Solar radiation - MJ/m2\n",
        "10. Rainfall - mm\n",
        "11. Snowfall - cm\n",
        "12. Seasons - Winter, Spring, Summer, Autumn\n",
        "13. Holiday - Holiday/No holiday\n",
        "14. Functional Day - NoFunc(Non Functional Hours), Fun(Functional hours)"
      ],
      "metadata": {
        "id": "UDjtv0YmNdmT"
      }
    },
    {
      "cell_type": "code",
      "source": [
        "Bike = pd.read_csv(\"https://archive.ics.uci.edu/ml/machine-learning-databases/00560/SeoulBikeData.csv\", encoding= 'unicode_escape')"
      ],
      "metadata": {
        "id": "lH43bZqDH8TE"
      },
      "execution_count": 17,
      "outputs": []
    },
    {
      "cell_type": "markdown",
      "metadata": {
        "id": "KJrgWw3VWq0a"
      },
      "source": [
        "\n",
        "#<font color ='pickle'>**EDA and identifying the preprocessing steps.** "
      ]
    },
    {
      "cell_type": "markdown",
      "source": [
        "# <font color = 'pickle'>**Exploratory data analysis**"
      ],
      "metadata": {
        "id": "bHzYk63BS7S_"
      }
    },
    {
      "cell_type": "markdown",
      "source": [
        "## <font color = 'Orange'>**Checking Data**"
      ],
      "metadata": {
        "id": "KoTj1hNTryr_"
      }
    },
    {
      "cell_type": "markdown",
      "source": [
        "### <font color = 'Orange'>**Checking a few rows**"
      ],
      "metadata": {
        "id": "RUjQ1VdFTBg7"
      }
    },
    {
      "cell_type": "code",
      "source": [
        "Bike.head() # lets start by looking at the data"
      ],
      "metadata": {
        "colab": {
          "base_uri": "https://localhost:8080/",
          "height": 0
        },
        "id": "N5fOAA_zPIBY",
        "outputId": "a05f92ad-c1e5-4540-d8cc-aaa7a75f337d"
      },
      "execution_count": 18,
      "outputs": [
        {
          "output_type": "execute_result",
          "data": {
            "text/plain": [
              "         Date  Rented Bike Count  Hour  Temperature(°C)  Humidity(%)  \\\n",
              "0  01/12/2017                254     0             -5.2           37   \n",
              "1  01/12/2017                204     1             -5.5           38   \n",
              "2  01/12/2017                173     2             -6.0           39   \n",
              "3  01/12/2017                107     3             -6.2           40   \n",
              "4  01/12/2017                 78     4             -6.0           36   \n",
              "\n",
              "   Wind speed (m/s)  Visibility (10m)  Dew point temperature(°C)  \\\n",
              "0               2.2              2000                      -17.6   \n",
              "1               0.8              2000                      -17.6   \n",
              "2               1.0              2000                      -17.7   \n",
              "3               0.9              2000                      -17.6   \n",
              "4               2.3              2000                      -18.6   \n",
              "\n",
              "   Solar Radiation (MJ/m2)  Rainfall(mm)  Snowfall (cm) Seasons     Holiday  \\\n",
              "0                      0.0           0.0            0.0  Winter  No Holiday   \n",
              "1                      0.0           0.0            0.0  Winter  No Holiday   \n",
              "2                      0.0           0.0            0.0  Winter  No Holiday   \n",
              "3                      0.0           0.0            0.0  Winter  No Holiday   \n",
              "4                      0.0           0.0            0.0  Winter  No Holiday   \n",
              "\n",
              "  Functioning Day  \n",
              "0             Yes  \n",
              "1             Yes  \n",
              "2             Yes  \n",
              "3             Yes  \n",
              "4             Yes  "
            ],
            "text/html": [
              "\n",
              "  <div id=\"df-76cf0e53-3b94-4f28-9815-5c50273d77a8\">\n",
              "    <div class=\"colab-df-container\">\n",
              "      <div>\n",
              "<style scoped>\n",
              "    .dataframe tbody tr th:only-of-type {\n",
              "        vertical-align: middle;\n",
              "    }\n",
              "\n",
              "    .dataframe tbody tr th {\n",
              "        vertical-align: top;\n",
              "    }\n",
              "\n",
              "    .dataframe thead th {\n",
              "        text-align: right;\n",
              "    }\n",
              "</style>\n",
              "<table border=\"1\" class=\"dataframe\">\n",
              "  <thead>\n",
              "    <tr style=\"text-align: right;\">\n",
              "      <th></th>\n",
              "      <th>Date</th>\n",
              "      <th>Rented Bike Count</th>\n",
              "      <th>Hour</th>\n",
              "      <th>Temperature(°C)</th>\n",
              "      <th>Humidity(%)</th>\n",
              "      <th>Wind speed (m/s)</th>\n",
              "      <th>Visibility (10m)</th>\n",
              "      <th>Dew point temperature(°C)</th>\n",
              "      <th>Solar Radiation (MJ/m2)</th>\n",
              "      <th>Rainfall(mm)</th>\n",
              "      <th>Snowfall (cm)</th>\n",
              "      <th>Seasons</th>\n",
              "      <th>Holiday</th>\n",
              "      <th>Functioning Day</th>\n",
              "    </tr>\n",
              "  </thead>\n",
              "  <tbody>\n",
              "    <tr>\n",
              "      <th>0</th>\n",
              "      <td>01/12/2017</td>\n",
              "      <td>254</td>\n",
              "      <td>0</td>\n",
              "      <td>-5.2</td>\n",
              "      <td>37</td>\n",
              "      <td>2.2</td>\n",
              "      <td>2000</td>\n",
              "      <td>-17.6</td>\n",
              "      <td>0.0</td>\n",
              "      <td>0.0</td>\n",
              "      <td>0.0</td>\n",
              "      <td>Winter</td>\n",
              "      <td>No Holiday</td>\n",
              "      <td>Yes</td>\n",
              "    </tr>\n",
              "    <tr>\n",
              "      <th>1</th>\n",
              "      <td>01/12/2017</td>\n",
              "      <td>204</td>\n",
              "      <td>1</td>\n",
              "      <td>-5.5</td>\n",
              "      <td>38</td>\n",
              "      <td>0.8</td>\n",
              "      <td>2000</td>\n",
              "      <td>-17.6</td>\n",
              "      <td>0.0</td>\n",
              "      <td>0.0</td>\n",
              "      <td>0.0</td>\n",
              "      <td>Winter</td>\n",
              "      <td>No Holiday</td>\n",
              "      <td>Yes</td>\n",
              "    </tr>\n",
              "    <tr>\n",
              "      <th>2</th>\n",
              "      <td>01/12/2017</td>\n",
              "      <td>173</td>\n",
              "      <td>2</td>\n",
              "      <td>-6.0</td>\n",
              "      <td>39</td>\n",
              "      <td>1.0</td>\n",
              "      <td>2000</td>\n",
              "      <td>-17.7</td>\n",
              "      <td>0.0</td>\n",
              "      <td>0.0</td>\n",
              "      <td>0.0</td>\n",
              "      <td>Winter</td>\n",
              "      <td>No Holiday</td>\n",
              "      <td>Yes</td>\n",
              "    </tr>\n",
              "    <tr>\n",
              "      <th>3</th>\n",
              "      <td>01/12/2017</td>\n",
              "      <td>107</td>\n",
              "      <td>3</td>\n",
              "      <td>-6.2</td>\n",
              "      <td>40</td>\n",
              "      <td>0.9</td>\n",
              "      <td>2000</td>\n",
              "      <td>-17.6</td>\n",
              "      <td>0.0</td>\n",
              "      <td>0.0</td>\n",
              "      <td>0.0</td>\n",
              "      <td>Winter</td>\n",
              "      <td>No Holiday</td>\n",
              "      <td>Yes</td>\n",
              "    </tr>\n",
              "    <tr>\n",
              "      <th>4</th>\n",
              "      <td>01/12/2017</td>\n",
              "      <td>78</td>\n",
              "      <td>4</td>\n",
              "      <td>-6.0</td>\n",
              "      <td>36</td>\n",
              "      <td>2.3</td>\n",
              "      <td>2000</td>\n",
              "      <td>-18.6</td>\n",
              "      <td>0.0</td>\n",
              "      <td>0.0</td>\n",
              "      <td>0.0</td>\n",
              "      <td>Winter</td>\n",
              "      <td>No Holiday</td>\n",
              "      <td>Yes</td>\n",
              "    </tr>\n",
              "  </tbody>\n",
              "</table>\n",
              "</div>\n",
              "      <button class=\"colab-df-convert\" onclick=\"convertToInteractive('df-76cf0e53-3b94-4f28-9815-5c50273d77a8')\"\n",
              "              title=\"Convert this dataframe to an interactive table.\"\n",
              "              style=\"display:none;\">\n",
              "        \n",
              "  <svg xmlns=\"http://www.w3.org/2000/svg\" height=\"24px\"viewBox=\"0 0 24 24\"\n",
              "       width=\"24px\">\n",
              "    <path d=\"M0 0h24v24H0V0z\" fill=\"none\"/>\n",
              "    <path d=\"M18.56 5.44l.94 2.06.94-2.06 2.06-.94-2.06-.94-.94-2.06-.94 2.06-2.06.94zm-11 1L8.5 8.5l.94-2.06 2.06-.94-2.06-.94L8.5 2.5l-.94 2.06-2.06.94zm10 10l.94 2.06.94-2.06 2.06-.94-2.06-.94-.94-2.06-.94 2.06-2.06.94z\"/><path d=\"M17.41 7.96l-1.37-1.37c-.4-.4-.92-.59-1.43-.59-.52 0-1.04.2-1.43.59L10.3 9.45l-7.72 7.72c-.78.78-.78 2.05 0 2.83L4 21.41c.39.39.9.59 1.41.59.51 0 1.02-.2 1.41-.59l7.78-7.78 2.81-2.81c.8-.78.8-2.07 0-2.86zM5.41 20L4 18.59l7.72-7.72 1.47 1.35L5.41 20z\"/>\n",
              "  </svg>\n",
              "      </button>\n",
              "      \n",
              "  <style>\n",
              "    .colab-df-container {\n",
              "      display:flex;\n",
              "      flex-wrap:wrap;\n",
              "      gap: 12px;\n",
              "    }\n",
              "\n",
              "    .colab-df-convert {\n",
              "      background-color: #E8F0FE;\n",
              "      border: none;\n",
              "      border-radius: 50%;\n",
              "      cursor: pointer;\n",
              "      display: none;\n",
              "      fill: #1967D2;\n",
              "      height: 32px;\n",
              "      padding: 0 0 0 0;\n",
              "      width: 32px;\n",
              "    }\n",
              "\n",
              "    .colab-df-convert:hover {\n",
              "      background-color: #E2EBFA;\n",
              "      box-shadow: 0px 1px 2px rgba(60, 64, 67, 0.3), 0px 1px 3px 1px rgba(60, 64, 67, 0.15);\n",
              "      fill: #174EA6;\n",
              "    }\n",
              "\n",
              "    [theme=dark] .colab-df-convert {\n",
              "      background-color: #3B4455;\n",
              "      fill: #D2E3FC;\n",
              "    }\n",
              "\n",
              "    [theme=dark] .colab-df-convert:hover {\n",
              "      background-color: #434B5C;\n",
              "      box-shadow: 0px 1px 3px 1px rgba(0, 0, 0, 0.15);\n",
              "      filter: drop-shadow(0px 1px 2px rgba(0, 0, 0, 0.3));\n",
              "      fill: #FFFFFF;\n",
              "    }\n",
              "  </style>\n",
              "\n",
              "      <script>\n",
              "        const buttonEl =\n",
              "          document.querySelector('#df-76cf0e53-3b94-4f28-9815-5c50273d77a8 button.colab-df-convert');\n",
              "        buttonEl.style.display =\n",
              "          google.colab.kernel.accessAllowed ? 'block' : 'none';\n",
              "\n",
              "        async function convertToInteractive(key) {\n",
              "          const element = document.querySelector('#df-76cf0e53-3b94-4f28-9815-5c50273d77a8');\n",
              "          const dataTable =\n",
              "            await google.colab.kernel.invokeFunction('convertToInteractive',\n",
              "                                                     [key], {});\n",
              "          if (!dataTable) return;\n",
              "\n",
              "          const docLinkHtml = 'Like what you see? Visit the ' +\n",
              "            '<a target=\"_blank\" href=https://colab.research.google.com/notebooks/data_table.ipynb>data table notebook</a>'\n",
              "            + ' to learn more about interactive tables.';\n",
              "          element.innerHTML = '';\n",
              "          dataTable['output_type'] = 'display_data';\n",
              "          await google.colab.output.renderOutput(dataTable, element);\n",
              "          const docLink = document.createElement('div');\n",
              "          docLink.innerHTML = docLinkHtml;\n",
              "          element.appendChild(docLink);\n",
              "        }\n",
              "      </script>\n",
              "    </div>\n",
              "  </div>\n",
              "  "
            ]
          },
          "metadata": {},
          "execution_count": 18
        }
      ]
    },
    {
      "cell_type": "markdown",
      "source": [
        "### <font color = 'Orange'>**Checking column names**"
      ],
      "metadata": {
        "id": "o6eLrxS_oitD"
      }
    },
    {
      "cell_type": "code",
      "source": [
        "Bike.columns  # looking at all the column names "
      ],
      "metadata": {
        "colab": {
          "base_uri": "https://localhost:8080/"
        },
        "id": "-xQVnwrqPpnD",
        "outputId": "8e7e242e-fa74-4696-c5e2-305a3caca078"
      },
      "execution_count": 19,
      "outputs": [
        {
          "output_type": "execute_result",
          "data": {
            "text/plain": [
              "Index(['Date', 'Rented Bike Count', 'Hour', 'Temperature(°C)', 'Humidity(%)',\n",
              "       'Wind speed (m/s)', 'Visibility (10m)', 'Dew point temperature(°C)',\n",
              "       'Solar Radiation (MJ/m2)', 'Rainfall(mm)', 'Snowfall (cm)', 'Seasons',\n",
              "       'Holiday', 'Functioning Day'],\n",
              "      dtype='object')"
            ]
          },
          "metadata": {},
          "execution_count": 19
        }
      ]
    },
    {
      "cell_type": "markdown",
      "source": [
        "### <font color = 'Orange'>**Checking column data types**"
      ],
      "metadata": {
        "id": "ESI7D6ItoukF"
      }
    },
    {
      "cell_type": "code",
      "source": [
        "Bike.info() #checking for the type of data"
      ],
      "metadata": {
        "colab": {
          "base_uri": "https://localhost:8080/"
        },
        "id": "Lqar-aNxQJev",
        "outputId": "b58bde58-5fab-4fe7-afc1-070d95f2b0f3"
      },
      "execution_count": 20,
      "outputs": [
        {
          "output_type": "stream",
          "name": "stdout",
          "text": [
            "<class 'pandas.core.frame.DataFrame'>\n",
            "RangeIndex: 8760 entries, 0 to 8759\n",
            "Data columns (total 14 columns):\n",
            " #   Column                     Non-Null Count  Dtype  \n",
            "---  ------                     --------------  -----  \n",
            " 0   Date                       8760 non-null   object \n",
            " 1   Rented Bike Count          8760 non-null   int64  \n",
            " 2   Hour                       8760 non-null   int64  \n",
            " 3   Temperature(°C)            8760 non-null   float64\n",
            " 4   Humidity(%)                8760 non-null   int64  \n",
            " 5   Wind speed (m/s)           8760 non-null   float64\n",
            " 6   Visibility (10m)           8760 non-null   int64  \n",
            " 7   Dew point temperature(°C)  8760 non-null   float64\n",
            " 8   Solar Radiation (MJ/m2)    8760 non-null   float64\n",
            " 9   Rainfall(mm)               8760 non-null   float64\n",
            " 10  Snowfall (cm)              8760 non-null   float64\n",
            " 11  Seasons                    8760 non-null   object \n",
            " 12  Holiday                    8760 non-null   object \n",
            " 13  Functioning Day            8760 non-null   object \n",
            "dtypes: float64(6), int64(4), object(4)\n",
            "memory usage: 958.2+ KB\n"
          ]
        }
      ]
    },
    {
      "cell_type": "markdown",
      "source": [
        "### <font color = 'Orange'>**Checking for unique values**"
      ],
      "metadata": {
        "id": "wQtnAuVIo1SR"
      }
    },
    {
      "cell_type": "code",
      "source": [
        "Bike.nunique()"
      ],
      "metadata": {
        "colab": {
          "base_uri": "https://localhost:8080/"
        },
        "id": "u2wlAGUORakX",
        "outputId": "1819072b-eed9-49e7-d623-009e7fbec710"
      },
      "execution_count": 21,
      "outputs": [
        {
          "output_type": "execute_result",
          "data": {
            "text/plain": [
              "Date                          365\n",
              "Rented Bike Count            2166\n",
              "Hour                           24\n",
              "Temperature(°C)               546\n",
              "Humidity(%)                    90\n",
              "Wind speed (m/s)               65\n",
              "Visibility (10m)             1789\n",
              "Dew point temperature(°C)     556\n",
              "Solar Radiation (MJ/m2)       345\n",
              "Rainfall(mm)                   61\n",
              "Snowfall (cm)                  51\n",
              "Seasons                         4\n",
              "Holiday                         2\n",
              "Functioning Day                 2\n",
              "dtype: int64"
            ]
          },
          "metadata": {},
          "execution_count": 21
        }
      ]
    },
    {
      "cell_type": "markdown",
      "source": [
        "### <font color = 'Orange'>**Checking duplicate rows**"
      ],
      "metadata": {
        "id": "F_TavgZYo9ba"
      }
    },
    {
      "cell_type": "code",
      "source": [
        "print(Bike.duplicated().any())"
      ],
      "metadata": {
        "colab": {
          "base_uri": "https://localhost:8080/"
        },
        "id": "whNCk27Upbh6",
        "outputId": "4d56e8e7-ccaa-417a-85ba-f4389dca9e18"
      },
      "execution_count": 22,
      "outputs": [
        {
          "output_type": "stream",
          "name": "stdout",
          "text": [
            "False\n"
          ]
        }
      ]
    },
    {
      "cell_type": "markdown",
      "source": [
        "### <font color = 'Orange'>**Checking for missing values**"
      ],
      "metadata": {
        "id": "Ei9kG_g7p4rm"
      }
    },
    {
      "cell_type": "code",
      "source": [
        "Bike.isna().sum()"
      ],
      "metadata": {
        "colab": {
          "base_uri": "https://localhost:8080/"
        },
        "id": "47TJTOMfp_Bj",
        "outputId": "4a69355b-a36c-48e9-fe14-814676f69a65"
      },
      "execution_count": 23,
      "outputs": [
        {
          "output_type": "execute_result",
          "data": {
            "text/plain": [
              "Date                         0\n",
              "Rented Bike Count            0\n",
              "Hour                         0\n",
              "Temperature(°C)              0\n",
              "Humidity(%)                  0\n",
              "Wind speed (m/s)             0\n",
              "Visibility (10m)             0\n",
              "Dew point temperature(°C)    0\n",
              "Solar Radiation (MJ/m2)      0\n",
              "Rainfall(mm)                 0\n",
              "Snowfall (cm)                0\n",
              "Seasons                      0\n",
              "Holiday                      0\n",
              "Functioning Day              0\n",
              "dtype: int64"
            ]
          },
          "metadata": {},
          "execution_count": 23
        }
      ]
    },
    {
      "cell_type": "markdown",
      "source": [
        "### <font color = 'Orange'>**Checking summary statistics** </font> "
      ],
      "metadata": {
        "id": "1aP6Zt9DpFJL"
      }
    },
    {
      "cell_type": "code",
      "source": [
        "Bike.describe().T"
      ],
      "metadata": {
        "colab": {
          "base_uri": "https://localhost:8080/",
          "height": 0
        },
        "id": "Wf_Fy7AHptTW",
        "outputId": "85d49ca2-36d6-43c4-f045-e6db560b525e"
      },
      "execution_count": 24,
      "outputs": [
        {
          "output_type": "execute_result",
          "data": {
            "text/plain": [
              "                            count         mean         std   min     25%  \\\n",
              "Rented Bike Count          8760.0   704.602055  644.997468   0.0  191.00   \n",
              "Hour                       8760.0    11.500000    6.922582   0.0    5.75   \n",
              "Temperature(°C)            8760.0    12.882922   11.944825 -17.8    3.50   \n",
              "Humidity(%)                8760.0    58.226256   20.362413   0.0   42.00   \n",
              "Wind speed (m/s)           8760.0     1.724909    1.036300   0.0    0.90   \n",
              "Visibility (10m)           8760.0  1436.825799  608.298712  27.0  940.00   \n",
              "Dew point temperature(°C)  8760.0     4.073813   13.060369 -30.6   -4.70   \n",
              "Solar Radiation (MJ/m2)    8760.0     0.569111    0.868746   0.0    0.00   \n",
              "Rainfall(mm)               8760.0     0.148687    1.128193   0.0    0.00   \n",
              "Snowfall (cm)              8760.0     0.075068    0.436746   0.0    0.00   \n",
              "\n",
              "                               50%      75%      max  \n",
              "Rented Bike Count           504.50  1065.25  3556.00  \n",
              "Hour                         11.50    17.25    23.00  \n",
              "Temperature(°C)              13.70    22.50    39.40  \n",
              "Humidity(%)                  57.00    74.00    98.00  \n",
              "Wind speed (m/s)              1.50     2.30     7.40  \n",
              "Visibility (10m)           1698.00  2000.00  2000.00  \n",
              "Dew point temperature(°C)     5.10    14.80    27.20  \n",
              "Solar Radiation (MJ/m2)       0.01     0.93     3.52  \n",
              "Rainfall(mm)                  0.00     0.00    35.00  \n",
              "Snowfall (cm)                 0.00     0.00     8.80  "
            ],
            "text/html": [
              "\n",
              "  <div id=\"df-1091c573-63de-496b-8f45-0023dc68d744\">\n",
              "    <div class=\"colab-df-container\">\n",
              "      <div>\n",
              "<style scoped>\n",
              "    .dataframe tbody tr th:only-of-type {\n",
              "        vertical-align: middle;\n",
              "    }\n",
              "\n",
              "    .dataframe tbody tr th {\n",
              "        vertical-align: top;\n",
              "    }\n",
              "\n",
              "    .dataframe thead th {\n",
              "        text-align: right;\n",
              "    }\n",
              "</style>\n",
              "<table border=\"1\" class=\"dataframe\">\n",
              "  <thead>\n",
              "    <tr style=\"text-align: right;\">\n",
              "      <th></th>\n",
              "      <th>count</th>\n",
              "      <th>mean</th>\n",
              "      <th>std</th>\n",
              "      <th>min</th>\n",
              "      <th>25%</th>\n",
              "      <th>50%</th>\n",
              "      <th>75%</th>\n",
              "      <th>max</th>\n",
              "    </tr>\n",
              "  </thead>\n",
              "  <tbody>\n",
              "    <tr>\n",
              "      <th>Rented Bike Count</th>\n",
              "      <td>8760.0</td>\n",
              "      <td>704.602055</td>\n",
              "      <td>644.997468</td>\n",
              "      <td>0.0</td>\n",
              "      <td>191.00</td>\n",
              "      <td>504.50</td>\n",
              "      <td>1065.25</td>\n",
              "      <td>3556.00</td>\n",
              "    </tr>\n",
              "    <tr>\n",
              "      <th>Hour</th>\n",
              "      <td>8760.0</td>\n",
              "      <td>11.500000</td>\n",
              "      <td>6.922582</td>\n",
              "      <td>0.0</td>\n",
              "      <td>5.75</td>\n",
              "      <td>11.50</td>\n",
              "      <td>17.25</td>\n",
              "      <td>23.00</td>\n",
              "    </tr>\n",
              "    <tr>\n",
              "      <th>Temperature(°C)</th>\n",
              "      <td>8760.0</td>\n",
              "      <td>12.882922</td>\n",
              "      <td>11.944825</td>\n",
              "      <td>-17.8</td>\n",
              "      <td>3.50</td>\n",
              "      <td>13.70</td>\n",
              "      <td>22.50</td>\n",
              "      <td>39.40</td>\n",
              "    </tr>\n",
              "    <tr>\n",
              "      <th>Humidity(%)</th>\n",
              "      <td>8760.0</td>\n",
              "      <td>58.226256</td>\n",
              "      <td>20.362413</td>\n",
              "      <td>0.0</td>\n",
              "      <td>42.00</td>\n",
              "      <td>57.00</td>\n",
              "      <td>74.00</td>\n",
              "      <td>98.00</td>\n",
              "    </tr>\n",
              "    <tr>\n",
              "      <th>Wind speed (m/s)</th>\n",
              "      <td>8760.0</td>\n",
              "      <td>1.724909</td>\n",
              "      <td>1.036300</td>\n",
              "      <td>0.0</td>\n",
              "      <td>0.90</td>\n",
              "      <td>1.50</td>\n",
              "      <td>2.30</td>\n",
              "      <td>7.40</td>\n",
              "    </tr>\n",
              "    <tr>\n",
              "      <th>Visibility (10m)</th>\n",
              "      <td>8760.0</td>\n",
              "      <td>1436.825799</td>\n",
              "      <td>608.298712</td>\n",
              "      <td>27.0</td>\n",
              "      <td>940.00</td>\n",
              "      <td>1698.00</td>\n",
              "      <td>2000.00</td>\n",
              "      <td>2000.00</td>\n",
              "    </tr>\n",
              "    <tr>\n",
              "      <th>Dew point temperature(°C)</th>\n",
              "      <td>8760.0</td>\n",
              "      <td>4.073813</td>\n",
              "      <td>13.060369</td>\n",
              "      <td>-30.6</td>\n",
              "      <td>-4.70</td>\n",
              "      <td>5.10</td>\n",
              "      <td>14.80</td>\n",
              "      <td>27.20</td>\n",
              "    </tr>\n",
              "    <tr>\n",
              "      <th>Solar Radiation (MJ/m2)</th>\n",
              "      <td>8760.0</td>\n",
              "      <td>0.569111</td>\n",
              "      <td>0.868746</td>\n",
              "      <td>0.0</td>\n",
              "      <td>0.00</td>\n",
              "      <td>0.01</td>\n",
              "      <td>0.93</td>\n",
              "      <td>3.52</td>\n",
              "    </tr>\n",
              "    <tr>\n",
              "      <th>Rainfall(mm)</th>\n",
              "      <td>8760.0</td>\n",
              "      <td>0.148687</td>\n",
              "      <td>1.128193</td>\n",
              "      <td>0.0</td>\n",
              "      <td>0.00</td>\n",
              "      <td>0.00</td>\n",
              "      <td>0.00</td>\n",
              "      <td>35.00</td>\n",
              "    </tr>\n",
              "    <tr>\n",
              "      <th>Snowfall (cm)</th>\n",
              "      <td>8760.0</td>\n",
              "      <td>0.075068</td>\n",
              "      <td>0.436746</td>\n",
              "      <td>0.0</td>\n",
              "      <td>0.00</td>\n",
              "      <td>0.00</td>\n",
              "      <td>0.00</td>\n",
              "      <td>8.80</td>\n",
              "    </tr>\n",
              "  </tbody>\n",
              "</table>\n",
              "</div>\n",
              "      <button class=\"colab-df-convert\" onclick=\"convertToInteractive('df-1091c573-63de-496b-8f45-0023dc68d744')\"\n",
              "              title=\"Convert this dataframe to an interactive table.\"\n",
              "              style=\"display:none;\">\n",
              "        \n",
              "  <svg xmlns=\"http://www.w3.org/2000/svg\" height=\"24px\"viewBox=\"0 0 24 24\"\n",
              "       width=\"24px\">\n",
              "    <path d=\"M0 0h24v24H0V0z\" fill=\"none\"/>\n",
              "    <path d=\"M18.56 5.44l.94 2.06.94-2.06 2.06-.94-2.06-.94-.94-2.06-.94 2.06-2.06.94zm-11 1L8.5 8.5l.94-2.06 2.06-.94-2.06-.94L8.5 2.5l-.94 2.06-2.06.94zm10 10l.94 2.06.94-2.06 2.06-.94-2.06-.94-.94-2.06-.94 2.06-2.06.94z\"/><path d=\"M17.41 7.96l-1.37-1.37c-.4-.4-.92-.59-1.43-.59-.52 0-1.04.2-1.43.59L10.3 9.45l-7.72 7.72c-.78.78-.78 2.05 0 2.83L4 21.41c.39.39.9.59 1.41.59.51 0 1.02-.2 1.41-.59l7.78-7.78 2.81-2.81c.8-.78.8-2.07 0-2.86zM5.41 20L4 18.59l7.72-7.72 1.47 1.35L5.41 20z\"/>\n",
              "  </svg>\n",
              "      </button>\n",
              "      \n",
              "  <style>\n",
              "    .colab-df-container {\n",
              "      display:flex;\n",
              "      flex-wrap:wrap;\n",
              "      gap: 12px;\n",
              "    }\n",
              "\n",
              "    .colab-df-convert {\n",
              "      background-color: #E8F0FE;\n",
              "      border: none;\n",
              "      border-radius: 50%;\n",
              "      cursor: pointer;\n",
              "      display: none;\n",
              "      fill: #1967D2;\n",
              "      height: 32px;\n",
              "      padding: 0 0 0 0;\n",
              "      width: 32px;\n",
              "    }\n",
              "\n",
              "    .colab-df-convert:hover {\n",
              "      background-color: #E2EBFA;\n",
              "      box-shadow: 0px 1px 2px rgba(60, 64, 67, 0.3), 0px 1px 3px 1px rgba(60, 64, 67, 0.15);\n",
              "      fill: #174EA6;\n",
              "    }\n",
              "\n",
              "    [theme=dark] .colab-df-convert {\n",
              "      background-color: #3B4455;\n",
              "      fill: #D2E3FC;\n",
              "    }\n",
              "\n",
              "    [theme=dark] .colab-df-convert:hover {\n",
              "      background-color: #434B5C;\n",
              "      box-shadow: 0px 1px 3px 1px rgba(0, 0, 0, 0.15);\n",
              "      filter: drop-shadow(0px 1px 2px rgba(0, 0, 0, 0.3));\n",
              "      fill: #FFFFFF;\n",
              "    }\n",
              "  </style>\n",
              "\n",
              "      <script>\n",
              "        const buttonEl =\n",
              "          document.querySelector('#df-1091c573-63de-496b-8f45-0023dc68d744 button.colab-df-convert');\n",
              "        buttonEl.style.display =\n",
              "          google.colab.kernel.accessAllowed ? 'block' : 'none';\n",
              "\n",
              "        async function convertToInteractive(key) {\n",
              "          const element = document.querySelector('#df-1091c573-63de-496b-8f45-0023dc68d744');\n",
              "          const dataTable =\n",
              "            await google.colab.kernel.invokeFunction('convertToInteractive',\n",
              "                                                     [key], {});\n",
              "          if (!dataTable) return;\n",
              "\n",
              "          const docLinkHtml = 'Like what you see? Visit the ' +\n",
              "            '<a target=\"_blank\" href=https://colab.research.google.com/notebooks/data_table.ipynb>data table notebook</a>'\n",
              "            + ' to learn more about interactive tables.';\n",
              "          element.innerHTML = '';\n",
              "          dataTable['output_type'] = 'display_data';\n",
              "          await google.colab.output.renderOutput(dataTable, element);\n",
              "          const docLink = document.createElement('div');\n",
              "          docLink.innerHTML = docLinkHtml;\n",
              "          element.appendChild(docLink);\n",
              "        }\n",
              "      </script>\n",
              "    </div>\n",
              "  </div>\n",
              "  "
            ]
          },
          "metadata": {},
          "execution_count": 24
        }
      ]
    },
    {
      "cell_type": "markdown",
      "source": [
        "## **<font color ='orange'>Identifying numerical, categorical and discrete variables**</font>"
      ],
      "metadata": {
        "id": "KQBvQOFcTQsD"
      }
    },
    {
      "cell_type": "code",
      "source": [
        "#list of categorical variabels\n",
        "categorical = [var for var in Bike.columns if Bike[var].dtype.name =='object']\n",
        "\n",
        "#list of discrete variables\n",
        "discrete = [ var for var in Bike.columns if Bike[var].dtype.name != 'object'\n",
        "              and len(Bike[var].unique()) < 30]\n",
        "\n",
        "# list of continous variables keeping our target variable out              \n",
        "continuous = [var for var in Bike.columns if  Bike[var].dtype.name != 'object'\n",
        "              and var not in discrete and var != 'Rented Bike Count']\n"
      ],
      "metadata": {
        "id": "qgSkO6A9TQIf"
      },
      "execution_count": 25,
      "outputs": []
    },
    {
      "cell_type": "code",
      "source": [
        "categorical"
      ],
      "metadata": {
        "colab": {
          "base_uri": "https://localhost:8080/"
        },
        "id": "fXNh63VhU5Q_",
        "outputId": "9c9b7889-e296-4496-8678-97bfc1643c3a"
      },
      "execution_count": 26,
      "outputs": [
        {
          "output_type": "execute_result",
          "data": {
            "text/plain": [
              "['Date', 'Seasons', 'Holiday', 'Functioning Day']"
            ]
          },
          "metadata": {},
          "execution_count": 26
        }
      ]
    },
    {
      "cell_type": "code",
      "source": [
        "discrete"
      ],
      "metadata": {
        "colab": {
          "base_uri": "https://localhost:8080/"
        },
        "id": "OUjBdNJjV07n",
        "outputId": "ac160afa-75da-4897-b154-72ec0bb0dbb0"
      },
      "execution_count": 27,
      "outputs": [
        {
          "output_type": "execute_result",
          "data": {
            "text/plain": [
              "['Hour']"
            ]
          },
          "metadata": {},
          "execution_count": 27
        }
      ]
    },
    {
      "cell_type": "code",
      "source": [
        "continuous"
      ],
      "metadata": {
        "colab": {
          "base_uri": "https://localhost:8080/"
        },
        "id": "0UFAKdrOWVpZ",
        "outputId": "1240ccbd-60b7-4268-e1e1-2a42cb92ee22"
      },
      "execution_count": 28,
      "outputs": [
        {
          "output_type": "execute_result",
          "data": {
            "text/plain": [
              "['Temperature(°C)',\n",
              " 'Humidity(%)',\n",
              " 'Wind speed (m/s)',\n",
              " 'Visibility (10m)',\n",
              " 'Dew point temperature(°C)',\n",
              " 'Solar Radiation (MJ/m2)',\n",
              " 'Rainfall(mm)',\n",
              " 'Snowfall (cm)']"
            ]
          },
          "metadata": {},
          "execution_count": 28
        }
      ]
    },
    {
      "cell_type": "markdown",
      "source": [
        "### <font color = 'Orange'>**Checking unique values for variables**"
      ],
      "metadata": {
        "id": "LFipr5oDsMQN"
      }
    },
    {
      "cell_type": "code",
      "source": [
        "# check the number of unique values for discrete variables and its values\n",
        "print(Bike[discrete].nunique())\n",
        "for var in discrete :\n",
        "  print (var, Bike[var].unique(), '\\n')"
      ],
      "metadata": {
        "colab": {
          "base_uri": "https://localhost:8080/"
        },
        "id": "q8H7rYelXG9n",
        "outputId": "a1df6474-4e06-4a15-de7c-149a1dfb50f1"
      },
      "execution_count": 29,
      "outputs": [
        {
          "output_type": "stream",
          "name": "stdout",
          "text": [
            "Hour    24\n",
            "dtype: int64\n",
            "Hour [ 0  1  2  3  4  5  6  7  8  9 10 11 12 13 14 15 16 17 18 19 20 21 22 23] \n",
            "\n"
          ]
        }
      ]
    },
    {
      "cell_type": "code",
      "source": [
        "tot_unique_val= Bike[continuous].nunique()\n",
        "for key,value in tot_unique_val.items():\n",
        "  if value >0:\n",
        "    print(key, ':', value)"
      ],
      "metadata": {
        "colab": {
          "base_uri": "https://localhost:8080/"
        },
        "id": "UTxAeFF8X67u",
        "outputId": "fd325ed2-068b-4c72-a3d3-dcdf33ab4179"
      },
      "execution_count": 30,
      "outputs": [
        {
          "output_type": "stream",
          "name": "stdout",
          "text": [
            "Temperature(°C) : 546\n",
            "Humidity(%) : 90\n",
            "Wind speed (m/s) : 65\n",
            "Visibility (10m) : 1789\n",
            "Dew point temperature(°C) : 556\n",
            "Solar Radiation (MJ/m2) : 345\n",
            "Rainfall(mm) : 61\n",
            "Snowfall (cm) : 51\n"
          ]
        }
      ]
    },
    {
      "cell_type": "code",
      "source": [
        "for var in continuous:\n",
        "  print(var, Bike[var].unique()[0:20], '\\n')"
      ],
      "metadata": {
        "colab": {
          "base_uri": "https://localhost:8080/"
        },
        "id": "YWawGglbvnKh",
        "outputId": "b7ab9e93-076b-4627-e12f-83869b6faaee"
      },
      "execution_count": 31,
      "outputs": [
        {
          "output_type": "stream",
          "name": "stdout",
          "text": [
            "Temperature(°C) [-5.2 -5.5 -6.  -6.2 -6.4 -6.6 -7.4 -7.6 -6.5 -3.5 -0.5  1.7  2.4  3.\n",
            "  2.1  1.2  0.8  0.6  0.  -0.3] \n",
            "\n",
            "Humidity(%) [37 38 39 40 36 35 27 24 21 23 25 26 54 58 66 77 79 81 83 84] \n",
            "\n",
            "Wind speed (m/s) [2.2 0.8 1.  0.9 2.3 1.5 1.3 1.1 0.5 1.2 1.4 1.6 2.  3.2 4.2 1.7 0.6 2.1\n",
            " 2.5 1.8] \n",
            "\n",
            "Visibility (10m) [2000 1928 1996 1936  793 1913 1687 1380 1265  994  990 1256 1221 1167\n",
            " 1202 1178 1276 1436 1487 1309] \n",
            "\n",
            "Dew point temperature(°C) [-17.6 -17.7 -18.6 -18.7 -19.5 -19.3 -19.8 -22.4 -21.2 -20.2 -17.2 -15.6\n",
            " -14.6 -11.4  -7.   -6.5  -5.   -3.5  -3.6  -3.4] \n",
            "\n",
            "Solar Radiation (MJ/m2) [0.   0.01 0.23 0.65 0.94 1.11 1.16 1.01 0.54 0.24 0.08 0.3  0.8  1.\n",
            " 1.09 1.12 0.99 0.74 0.22 0.06] \n",
            "\n",
            "Rainfall(mm) [0.  0.5 1.  2.5 0.1 0.2 0.3 0.7 1.6 0.4 1.1 6.4 9.5 3.5 0.9 3.3 1.4 1.5\n",
            " 3.7 4.5] \n",
            "\n",
            "Snowfall (cm) [0.  0.1 0.3 0.4 0.2 1.  0.9 0.8 0.7 0.6 2.7 4.  4.1 4.3 3.9 3.1 2.1 1.4\n",
            " 0.5 1.3] \n",
            "\n"
          ]
        }
      ]
    },
    {
      "cell_type": "code",
      "source": [
        "tot_unique_cat_val= Bike[categorical].nunique()\n",
        "for key,value in tot_unique_cat_val.items():\n",
        "  if value >0:\n",
        "    print(key, ':', value)"
      ],
      "metadata": {
        "colab": {
          "base_uri": "https://localhost:8080/"
        },
        "id": "7Ev8PGOEwK89",
        "outputId": "4381ba87-6348-4a3c-d2e0-737de1fd3d2e"
      },
      "execution_count": 32,
      "outputs": [
        {
          "output_type": "stream",
          "name": "stdout",
          "text": [
            "Date : 365\n",
            "Seasons : 4\n",
            "Holiday : 2\n",
            "Functioning Day : 2\n"
          ]
        }
      ]
    },
    {
      "cell_type": "code",
      "source": [
        "for var in categorical:\n",
        "  print(var, Bike[var].unique()[0:20], '\\n')"
      ],
      "metadata": {
        "colab": {
          "base_uri": "https://localhost:8080/"
        },
        "id": "zTtpz4BFwiz6",
        "outputId": "fe4f5f6b-a356-4dba-dcdc-61ba98d70787"
      },
      "execution_count": 33,
      "outputs": [
        {
          "output_type": "stream",
          "name": "stdout",
          "text": [
            "Date ['01/12/2017' '02/12/2017' '03/12/2017' '04/12/2017' '05/12/2017'\n",
            " '06/12/2017' '07/12/2017' '08/12/2017' '09/12/2017' '10/12/2017'\n",
            " '11/12/2017' '12/12/2017' '13/12/2017' '14/12/2017' '15/12/2017'\n",
            " '16/12/2017' '17/12/2017' '18/12/2017' '19/12/2017' '20/12/2017'] \n",
            "\n",
            "Seasons ['Winter' 'Spring' 'Summer' 'Autumn'] \n",
            "\n",
            "Holiday ['No Holiday' 'Holiday'] \n",
            "\n",
            "Functioning Day ['Yes' 'No'] \n",
            "\n"
          ]
        }
      ]
    },
    {
      "cell_type": "markdown",
      "source": [
        "## <font color = 'Orange'>**Checking Varibale Distributions**"
      ],
      "metadata": {
        "id": "dxSaTMOhshJI"
      }
    },
    {
      "cell_type": "markdown",
      "source": [
        "### **<font color ='orange'>Categorical Variables**</font>\n"
      ],
      "metadata": {
        "id": "XqMPwj5sw3wk"
      }
    },
    {
      "cell_type": "code",
      "source": [
        "Bike[categorical].head()"
      ],
      "metadata": {
        "colab": {
          "base_uri": "https://localhost:8080/",
          "height": 0
        },
        "id": "4I-1G1qPtla6",
        "outputId": "83b9845f-443d-4dea-e86f-7afb8ba94fea"
      },
      "execution_count": 34,
      "outputs": [
        {
          "output_type": "execute_result",
          "data": {
            "text/plain": [
              "         Date Seasons     Holiday Functioning Day\n",
              "0  01/12/2017  Winter  No Holiday             Yes\n",
              "1  01/12/2017  Winter  No Holiday             Yes\n",
              "2  01/12/2017  Winter  No Holiday             Yes\n",
              "3  01/12/2017  Winter  No Holiday             Yes\n",
              "4  01/12/2017  Winter  No Holiday             Yes"
            ],
            "text/html": [
              "\n",
              "  <div id=\"df-b88d73c5-da4b-47da-8d61-5b270453e4a5\">\n",
              "    <div class=\"colab-df-container\">\n",
              "      <div>\n",
              "<style scoped>\n",
              "    .dataframe tbody tr th:only-of-type {\n",
              "        vertical-align: middle;\n",
              "    }\n",
              "\n",
              "    .dataframe tbody tr th {\n",
              "        vertical-align: top;\n",
              "    }\n",
              "\n",
              "    .dataframe thead th {\n",
              "        text-align: right;\n",
              "    }\n",
              "</style>\n",
              "<table border=\"1\" class=\"dataframe\">\n",
              "  <thead>\n",
              "    <tr style=\"text-align: right;\">\n",
              "      <th></th>\n",
              "      <th>Date</th>\n",
              "      <th>Seasons</th>\n",
              "      <th>Holiday</th>\n",
              "      <th>Functioning Day</th>\n",
              "    </tr>\n",
              "  </thead>\n",
              "  <tbody>\n",
              "    <tr>\n",
              "      <th>0</th>\n",
              "      <td>01/12/2017</td>\n",
              "      <td>Winter</td>\n",
              "      <td>No Holiday</td>\n",
              "      <td>Yes</td>\n",
              "    </tr>\n",
              "    <tr>\n",
              "      <th>1</th>\n",
              "      <td>01/12/2017</td>\n",
              "      <td>Winter</td>\n",
              "      <td>No Holiday</td>\n",
              "      <td>Yes</td>\n",
              "    </tr>\n",
              "    <tr>\n",
              "      <th>2</th>\n",
              "      <td>01/12/2017</td>\n",
              "      <td>Winter</td>\n",
              "      <td>No Holiday</td>\n",
              "      <td>Yes</td>\n",
              "    </tr>\n",
              "    <tr>\n",
              "      <th>3</th>\n",
              "      <td>01/12/2017</td>\n",
              "      <td>Winter</td>\n",
              "      <td>No Holiday</td>\n",
              "      <td>Yes</td>\n",
              "    </tr>\n",
              "    <tr>\n",
              "      <th>4</th>\n",
              "      <td>01/12/2017</td>\n",
              "      <td>Winter</td>\n",
              "      <td>No Holiday</td>\n",
              "      <td>Yes</td>\n",
              "    </tr>\n",
              "  </tbody>\n",
              "</table>\n",
              "</div>\n",
              "      <button class=\"colab-df-convert\" onclick=\"convertToInteractive('df-b88d73c5-da4b-47da-8d61-5b270453e4a5')\"\n",
              "              title=\"Convert this dataframe to an interactive table.\"\n",
              "              style=\"display:none;\">\n",
              "        \n",
              "  <svg xmlns=\"http://www.w3.org/2000/svg\" height=\"24px\"viewBox=\"0 0 24 24\"\n",
              "       width=\"24px\">\n",
              "    <path d=\"M0 0h24v24H0V0z\" fill=\"none\"/>\n",
              "    <path d=\"M18.56 5.44l.94 2.06.94-2.06 2.06-.94-2.06-.94-.94-2.06-.94 2.06-2.06.94zm-11 1L8.5 8.5l.94-2.06 2.06-.94-2.06-.94L8.5 2.5l-.94 2.06-2.06.94zm10 10l.94 2.06.94-2.06 2.06-.94-2.06-.94-.94-2.06-.94 2.06-2.06.94z\"/><path d=\"M17.41 7.96l-1.37-1.37c-.4-.4-.92-.59-1.43-.59-.52 0-1.04.2-1.43.59L10.3 9.45l-7.72 7.72c-.78.78-.78 2.05 0 2.83L4 21.41c.39.39.9.59 1.41.59.51 0 1.02-.2 1.41-.59l7.78-7.78 2.81-2.81c.8-.78.8-2.07 0-2.86zM5.41 20L4 18.59l7.72-7.72 1.47 1.35L5.41 20z\"/>\n",
              "  </svg>\n",
              "      </button>\n",
              "      \n",
              "  <style>\n",
              "    .colab-df-container {\n",
              "      display:flex;\n",
              "      flex-wrap:wrap;\n",
              "      gap: 12px;\n",
              "    }\n",
              "\n",
              "    .colab-df-convert {\n",
              "      background-color: #E8F0FE;\n",
              "      border: none;\n",
              "      border-radius: 50%;\n",
              "      cursor: pointer;\n",
              "      display: none;\n",
              "      fill: #1967D2;\n",
              "      height: 32px;\n",
              "      padding: 0 0 0 0;\n",
              "      width: 32px;\n",
              "    }\n",
              "\n",
              "    .colab-df-convert:hover {\n",
              "      background-color: #E2EBFA;\n",
              "      box-shadow: 0px 1px 2px rgba(60, 64, 67, 0.3), 0px 1px 3px 1px rgba(60, 64, 67, 0.15);\n",
              "      fill: #174EA6;\n",
              "    }\n",
              "\n",
              "    [theme=dark] .colab-df-convert {\n",
              "      background-color: #3B4455;\n",
              "      fill: #D2E3FC;\n",
              "    }\n",
              "\n",
              "    [theme=dark] .colab-df-convert:hover {\n",
              "      background-color: #434B5C;\n",
              "      box-shadow: 0px 1px 3px 1px rgba(0, 0, 0, 0.15);\n",
              "      filter: drop-shadow(0px 1px 2px rgba(0, 0, 0, 0.3));\n",
              "      fill: #FFFFFF;\n",
              "    }\n",
              "  </style>\n",
              "\n",
              "      <script>\n",
              "        const buttonEl =\n",
              "          document.querySelector('#df-b88d73c5-da4b-47da-8d61-5b270453e4a5 button.colab-df-convert');\n",
              "        buttonEl.style.display =\n",
              "          google.colab.kernel.accessAllowed ? 'block' : 'none';\n",
              "\n",
              "        async function convertToInteractive(key) {\n",
              "          const element = document.querySelector('#df-b88d73c5-da4b-47da-8d61-5b270453e4a5');\n",
              "          const dataTable =\n",
              "            await google.colab.kernel.invokeFunction('convertToInteractive',\n",
              "                                                     [key], {});\n",
              "          if (!dataTable) return;\n",
              "\n",
              "          const docLinkHtml = 'Like what you see? Visit the ' +\n",
              "            '<a target=\"_blank\" href=https://colab.research.google.com/notebooks/data_table.ipynb>data table notebook</a>'\n",
              "            + ' to learn more about interactive tables.';\n",
              "          element.innerHTML = '';\n",
              "          dataTable['output_type'] = 'display_data';\n",
              "          await google.colab.output.renderOutput(dataTable, element);\n",
              "          const docLink = document.createElement('div');\n",
              "          docLink.innerHTML = docLinkHtml;\n",
              "          element.appendChild(docLink);\n",
              "        }\n",
              "      </script>\n",
              "    </div>\n",
              "  </div>\n",
              "  "
            ]
          },
          "metadata": {},
          "execution_count": 34
        }
      ]
    },
    {
      "cell_type": "code",
      "source": [
        "def check_rare(var):\n",
        "  cat_freq=100*Bike[var].value_counts(normalize=True)\n",
        "  fig= cat_freq.sort_values(ascending=False).plot.bar()\n",
        "  fig.axhline(y=5, color='brown')\n",
        "  fig.set_ylabel('category percent frequency')\n",
        "  fig.set_xlabel(var)\n",
        "  fig.set_title('Identifying Rare Categories')\n",
        "  plt.show()"
      ],
      "metadata": {
        "id": "-1R9y11HtsKG"
      },
      "execution_count": 35,
      "outputs": []
    },
    {
      "cell_type": "code",
      "source": [
        "for var in categorical:\n",
        "  check_rare(var)"
      ],
      "metadata": {
        "colab": {
          "base_uri": "https://localhost:8080/",
          "height": 0
        },
        "id": "qSR5nd3QvKhF",
        "outputId": "750b534a-e453-40ee-d94e-6ac918ad9f43"
      },
      "execution_count": 36,
      "outputs": [
        {
          "output_type": "display_data",
          "data": {
            "text/plain": [
              "<Figure size 432x288 with 1 Axes>"
            ],
            "image/png": "[encoded data removed]"
          },
          "metadata": {
            "needs_background": "light"
          }
        },
        {
          "output_type": "display_data",
          "data": {
            "text/plain": [
              "<Figure size 432x288 with 1 Axes>"
            ],
            "image/png": "[encoded data removed]"
          },
          "metadata": {
            "needs_background": "light"
          }
        },
        {
          "output_type": "display_data",
          "data": {
            "text/plain": [
              "<Figure size 432x288 with 1 Axes>"
            ],
            "image/png": "[encoded data removed]"
          },
          "metadata": {
            "needs_background": "light"
          }
        },
        {
          "output_type": "display_data",
          "data": {
            "text/plain": [
              "<Figure size 432x288 with 1 Axes>"
            ],
            "image/png": "[encoded data removed]"
          },
          "metadata": {
            "needs_background": "light"
          }
        }
      ]
    },
    {
      "cell_type": "markdown",
      "source": [
        "### <font color = 'Orange'>**Checking target variable distribution**"
      ],
      "metadata": {
        "id": "K_Sy4bRTwEIW"
      }
    },
    {
      "cell_type": "code",
      "source": [
        "Bike['Rented Bike Count'].describe()"
      ],
      "metadata": {
        "colab": {
          "base_uri": "https://localhost:8080/"
        },
        "id": "Vrmbxp2UwKG-",
        "outputId": "46e9f0ec-891a-4d5e-f416-c94f2562df0e"
      },
      "execution_count": 37,
      "outputs": [
        {
          "output_type": "execute_result",
          "data": {
            "text/plain": [
              "count    8760.000000\n",
              "mean      704.602055\n",
              "std       644.997468\n",
              "min         0.000000\n",
              "25%       191.000000\n",
              "50%       504.500000\n",
              "75%      1065.250000\n",
              "max      3556.000000\n",
              "Name: Rented Bike Count, dtype: float64"
            ]
          },
          "metadata": {},
          "execution_count": 37
        }
      ]
    },
    {
      "cell_type": "code",
      "source": [
        "Bike['Rented Bike Count'].hist(bins=50, figsize=(8,6))\n",
        "plt.show"
      ],
      "metadata": {
        "colab": {
          "base_uri": "https://localhost:8080/",
          "height": 0
        },
        "id": "ZgjlA7nbxG6M",
        "outputId": "e2e0b01b-cee0-4e46-a2fc-a46cc16c1c48"
      },
      "execution_count": 38,
      "outputs": [
        {
          "output_type": "execute_result",
          "data": {
            "text/plain": [
              "<function matplotlib.pyplot.show(*args, **kw)>"
            ]
          },
          "metadata": {},
          "execution_count": 38
        },
        {
          "output_type": "display_data",
          "data": {
            "text/plain": [
              "<Figure size 576x432 with 1 Axes>"
            ],
            "image/png": "[encoded data removed]"
          },
          "metadata": {
            "needs_background": "light"
          }
        }
      ]
    },
    {
      "cell_type": "markdown",
      "source": [],
      "metadata": {
        "id": "FcK6R1ZGxYOO"
      }
    },
    {
      "cell_type": "markdown",
      "source": [
        "### <font color = 'Orange'>**Checking continuous variables distribution**"
      ],
      "metadata": {
        "id": "wzMIAukoxmH1"
      }
    },
    {
      "cell_type": "code",
      "source": [
        "for var in continuous:\n",
        "  diagnostic_plots(Bike, var)"
      ],
      "metadata": {
        "colab": {
          "base_uri": "https://localhost:8080/",
          "height": 0
        },
        "id": "H1eGne_qz2Th",
        "outputId": "510e7977-792d-439f-daed-18f3bcebc02f"
      },
      "execution_count": 39,
      "outputs": [
        {
          "output_type": "display_data",
          "data": {
            "text/plain": [
              "<Figure size 1152x288 with 3 Axes>"
            ],
            "image/png": "[encoded data removed]"
          },
          "metadata": {
            "needs_background": "light"
          }
        },
        {
          "output_type": "display_data",
          "data": {
            "text/plain": [
              "<Figure size 1152x288 with 3 Axes>"
            ],
            "image/png": "[encoded data removed]"
          },
          "metadata": {
            "needs_background": "light"
          }
        },
        {
          "output_type": "display_data",
          "data": {
            "text/plain": [
              "<Figure size 1152x288 with 3 Axes>"
            ],
            "image/png": "[encoded data removed]"
          },
          "metadata": {
            "needs_background": "light"
          }
        },
        {
          "output_type": "display_data",
          "data": {
            "text/plain": [
              "<Figure size 1152x288 with 3 Axes>"
            ],
            "image/png": "[encoded data removed]"
          },
          "metadata": {
            "needs_background": "light"
          }
        },
        {
          "output_type": "display_data",
          "data": {
            "text/plain": [
              "<Figure size 1152x288 with 3 Axes>"
            ],
            "image/png": "[encoded data removed]"
          },
          "metadata": {
            "needs_background": "light"
          }
        },
        {
          "output_type": "display_data",
          "data": {
            "text/plain": [
              "<Figure size 1152x288 with 3 Axes>"
            ],
            "image/png": "[encoded data removed]"
          },
          "metadata": {
            "needs_background": "light"
          }
        },
        {
          "output_type": "display_data",
          "data": {
            "text/plain": [
              "<Figure size 1152x288 with 3 Axes>"
            ],
            "image/png": "[encoded data removed]"
          },
          "metadata": {
            "needs_background": "light"
          }
        },
        {
          "output_type": "display_data",
          "data": {
            "text/plain": [
              "<Figure size 1152x288 with 3 Axes>"
            ],
            "image/png": "[encoded data removed]"
          },
          "metadata": {
            "needs_background": "light"
          }
        }
      ]
    },
    {
      "cell_type": "markdown",
      "source": [
        "### <font color = 'Orange'>**Checking discrete variable distribution**"
      ],
      "metadata": {
        "id": "sw_TAObn021k"
      }
    },
    {
      "cell_type": "code",
      "source": [
        "Bike[discrete].hist(bins=50)"
      ],
      "metadata": {
        "colab": {
          "base_uri": "https://localhost:8080/",
          "height": 0
        },
        "id": "1fDxkid907TC",
        "outputId": "c5f8c936-3c49-4cc6-f7c7-12527b41e44e"
      },
      "execution_count": 40,
      "outputs": [
        {
          "output_type": "execute_result",
          "data": {
            "text/plain": [
              "array([[<matplotlib.axes._subplots.AxesSubplot object at 0x7fe6e0c7e640>]],\n",
              "      dtype=object)"
            ]
          },
          "metadata": {},
          "execution_count": 40
        },
        {
          "output_type": "display_data",
          "data": {
            "text/plain": [
              "<Figure size 432x288 with 1 Axes>"
            ],
            "image/png": "[encoded data removed]"
          },
          "metadata": {
            "needs_background": "light"
          }
        }
      ]
    },
    {
      "cell_type": "markdown",
      "source": [
        "## **<font color ='orange'>Visualizing Relationships between Variables**</font>"
      ],
      "metadata": {
        "id": "XaOEuzc737gS"
      }
    },
    {
      "cell_type": "markdown",
      "source": [
        "### **<font color ='orange'>Correlation Matrix**</font>"
      ],
      "metadata": {
        "id": "58V3V0f32nG9"
      }
    },
    {
      "cell_type": "code",
      "source": [
        "plt.figure(figsize=(7,7))\n",
        "sns.heatmap(Bike[continuous].corr(), annot=True, square=True, fmt='.2f', \n",
        "            cbar_kws={'shrink':0.80}, linewidth=.5, cmap='RdYlGn');"
      ],
      "metadata": {
        "colab": {
          "base_uri": "https://localhost:8080/",
          "height": 0
        },
        "id": "ModJF4dD3rro",
        "outputId": "03dfb7c8-f714-46ab-b777-0d8f3e41a65c"
      },
      "execution_count": 41,
      "outputs": [
        {
          "output_type": "display_data",
          "data": {
            "text/plain": [
              "<Figure size 504x504 with 2 Axes>"
            ],
            "image/png": "[encoded data removed]"
          },
          "metadata": {
            "needs_background": "light"
          }
        }
      ]
    },
    {
      "cell_type": "markdown",
      "source": [
        "#### **<font color ='orange'>Observation:**</font>\n",
        "\n",
        "temperature and dew point temperature are highly correlated at 0.91, I will drop dew point temperature "
      ],
      "metadata": {
        "id": "aF0TPLCH5uzX"
      }
    },
    {
      "cell_type": "markdown",
      "source": [
        "### **<font color ='orange'>Relationship between target variable and categorical variables**</font>"
      ],
      "metadata": {
        "id": "31XDvmyy2uwp"
      }
    },
    {
      "cell_type": "code",
      "source": [
        "for category in categorical + discrete:\n",
        "  plot_target_by_category(Bike, 'Rented Bike Count', category, 'Bikes Rented')"
      ],
      "metadata": {
        "colab": {
          "base_uri": "https://localhost:8080/",
          "height": 0
        },
        "id": "8qm9a9LH2_y0",
        "outputId": "4d25e11c-fe89-4ab7-fe46-bafe08a3d60e"
      },
      "execution_count": 42,
      "outputs": [
        {
          "output_type": "display_data",
          "data": {
            "text/plain": [
              "<Figure size 576x360 with 1 Axes>"
            ],
            "image/png": "[encoded data removed]"
          },
          "metadata": {
            "needs_background": "light"
          }
        },
        {
          "output_type": "display_data",
          "data": {
            "text/plain": [
              "<Figure size 576x360 with 1 Axes>"
            ],
            "image/png": "[encoded data removed]"
          },
          "metadata": {
            "needs_background": "light"
          }
        },
        {
          "output_type": "display_data",
          "data": {
            "text/plain": [
              "<Figure size 576x360 with 1 Axes>"
            ],
            "image/png": "[encoded data removed]"
          },
          "metadata": {
            "needs_background": "light"
          }
        },
        {
          "output_type": "display_data",
          "data": {
            "text/plain": [
              "<Figure size 576x360 with 1 Axes>"
            ],
            "image/png": "[encoded data removed]"
          },
          "metadata": {
            "needs_background": "light"
          }
        },
        {
          "output_type": "display_data",
          "data": {
            "text/plain": [
              "<Figure size 576x360 with 1 Axes>"
            ],
            "image/png": "[encoded data removed]"
          },
          "metadata": {
            "needs_background": "light"
          }
        }
      ]
    },
    {
      "cell_type": "markdown",
      "source": [
        "## **<font color ='orange'>Conclusions:**</font>\n",
        "1. Our target variable, Rented Bike Count, is numerically continuous, so, this will be a regression model.\n",
        "1. There are no single-value columns.\n",
        "2. We have no missing or NA values.\n",
        "7. Date and functioning day are unnecesary variables. (as this is not a time series project)\n",
        "8. Dew point Temp is a redundant variable that should be dropped.\n",
        "3. Categorical variables need to be converted to numerical values.\n",
        "4. No rare categories present after dropping functioning day.\n",
        "5. I have found significanat skewness in continuous variables, since some of the variables have 0 and negative numbers we should use yeo-jonson transformation for Temp and wind.\n",
        "6. The other continuous variables don't have a normal distribition so we are going to discretize them.\n",
        "9. there are outliers present in wind solar radiation, rain and snow variables\n",
        "6. We will need to do feature scaling for continuous variables to ensure all of these variable have the same scale.\n",
        "\n",
        "\n",
        "**<font color ='orange'>Preprocessing Steps:**</font>\n",
        "\n",
        "1. Drop date, dewpoint and functining day variables \n",
        "3. Yeo-jonson transform continuous variables temp and wind\n",
        "2. Discretize continuous variables Humidity, Visibility, Solar Radiation, Rain and Snow \n",
        "3. One hot encoding for categorical and discretized variables\n",
        "4. remove outliers from wind\n",
        "4. Scaling Temp and wind variables\n",
        "\n",
        "\n",
        "\n"
      ],
      "metadata": {
        "id": "LSPu38E76SDx"
      }
    },
    {
      "cell_type": "markdown",
      "source": [
        "\n",
        "##  <font color ='pickle'>**Creating a pipeline of regressor and preprocessing steps** \n",
        "I will use KNNRegression and gridserach to fine tune your pipeline. The aim of the piepline is to predict the rented bike count."
      ],
      "metadata": {
        "id": "CgnXjxH1ZMBM"
      }
    },
    {
      "cell_type": "markdown",
      "source": [
        "### **<font color ='orange'>Splitting The Data**</font>"
      ],
      "metadata": {
        "id": "oN39Gkp3oZDu"
      }
    },
    {
      "cell_type": "code",
      "source": [
        "X = Bike.drop('Rented Bike Count', axis=1)\n",
        "y = Bike['Rented Bike Count'].copy()"
      ],
      "metadata": {
        "id": "tEZslOvs1XeF"
      },
      "execution_count": 43,
      "outputs": []
    },
    {
      "cell_type": "code",
      "source": [
        "X.head()"
      ],
      "metadata": {
        "colab": {
          "base_uri": "https://localhost:8080/",
          "height": 0
        },
        "id": "Cj5bp5D917XG",
        "outputId": "778ec301-700a-45f3-f3fe-c09885aeed9b"
      },
      "execution_count": 44,
      "outputs": [
        {
          "output_type": "execute_result",
          "data": {
            "text/plain": [
              "         Date  Hour  Temperature(°C)  Humidity(%)  Wind speed (m/s)  \\\n",
              "0  01/12/2017     0             -5.2           37               2.2   \n",
              "1  01/12/2017     1             -5.5           38               0.8   \n",
              "2  01/12/2017     2             -6.0           39               1.0   \n",
              "3  01/12/2017     3             -6.2           40               0.9   \n",
              "4  01/12/2017     4             -6.0           36               2.3   \n",
              "\n",
              "   Visibility (10m)  Dew point temperature(°C)  Solar Radiation (MJ/m2)  \\\n",
              "0              2000                      -17.6                      0.0   \n",
              "1              2000                      -17.6                      0.0   \n",
              "2              2000                      -17.7                      0.0   \n",
              "3              2000                      -17.6                      0.0   \n",
              "4              2000                      -18.6                      0.0   \n",
              "\n",
              "   Rainfall(mm)  Snowfall (cm) Seasons     Holiday Functioning Day  \n",
              "0           0.0            0.0  Winter  No Holiday             Yes  \n",
              "1           0.0            0.0  Winter  No Holiday             Yes  \n",
              "2           0.0            0.0  Winter  No Holiday             Yes  \n",
              "3           0.0            0.0  Winter  No Holiday             Yes  \n",
              "4           0.0            0.0  Winter  No Holiday             Yes  "
            ],
            "text/html": [
              "\n",
              "  <div id=\"df-47527e44-c59f-4f71-b981-52b2bad61089\">\n",
              "    <div class=\"colab-df-container\">\n",
              "      <div>\n",
              "<style scoped>\n",
              "    .dataframe tbody tr th:only-of-type {\n",
              "        vertical-align: middle;\n",
              "    }\n",
              "\n",
              "    .dataframe tbody tr th {\n",
              "        vertical-align: top;\n",
              "    }\n",
              "\n",
              "    .dataframe thead th {\n",
              "        text-align: right;\n",
              "    }\n",
              "</style>\n",
              "<table border=\"1\" class=\"dataframe\">\n",
              "  <thead>\n",
              "    <tr style=\"text-align: right;\">\n",
              "      <th></th>\n",
              "      <th>Date</th>\n",
              "      <th>Hour</th>\n",
              "      <th>Temperature(°C)</th>\n",
              "      <th>Humidity(%)</th>\n",
              "      <th>Wind speed (m/s)</th>\n",
              "      <th>Visibility (10m)</th>\n",
              "      <th>Dew point temperature(°C)</th>\n",
              "      <th>Solar Radiation (MJ/m2)</th>\n",
              "      <th>Rainfall(mm)</th>\n",
              "      <th>Snowfall (cm)</th>\n",
              "      <th>Seasons</th>\n",
              "      <th>Holiday</th>\n",
              "      <th>Functioning Day</th>\n",
              "    </tr>\n",
              "  </thead>\n",
              "  <tbody>\n",
              "    <tr>\n",
              "      <th>0</th>\n",
              "      <td>01/12/2017</td>\n",
              "      <td>0</td>\n",
              "      <td>-5.2</td>\n",
              "      <td>37</td>\n",
              "      <td>2.2</td>\n",
              "      <td>2000</td>\n",
              "      <td>-17.6</td>\n",
              "      <td>0.0</td>\n",
              "      <td>0.0</td>\n",
              "      <td>0.0</td>\n",
              "      <td>Winter</td>\n",
              "      <td>No Holiday</td>\n",
              "      <td>Yes</td>\n",
              "    </tr>\n",
              "    <tr>\n",
              "      <th>1</th>\n",
              "      <td>01/12/2017</td>\n",
              "      <td>1</td>\n",
              "      <td>-5.5</td>\n",
              "      <td>38</td>\n",
              "      <td>0.8</td>\n",
              "      <td>2000</td>\n",
              "      <td>-17.6</td>\n",
              "      <td>0.0</td>\n",
              "      <td>0.0</td>\n",
              "      <td>0.0</td>\n",
              "      <td>Winter</td>\n",
              "      <td>No Holiday</td>\n",
              "      <td>Yes</td>\n",
              "    </tr>\n",
              "    <tr>\n",
              "      <th>2</th>\n",
              "      <td>01/12/2017</td>\n",
              "      <td>2</td>\n",
              "      <td>-6.0</td>\n",
              "      <td>39</td>\n",
              "      <td>1.0</td>\n",
              "      <td>2000</td>\n",
              "      <td>-17.7</td>\n",
              "      <td>0.0</td>\n",
              "      <td>0.0</td>\n",
              "      <td>0.0</td>\n",
              "      <td>Winter</td>\n",
              "      <td>No Holiday</td>\n",
              "      <td>Yes</td>\n",
              "    </tr>\n",
              "    <tr>\n",
              "      <th>3</th>\n",
              "      <td>01/12/2017</td>\n",
              "      <td>3</td>\n",
              "      <td>-6.2</td>\n",
              "      <td>40</td>\n",
              "      <td>0.9</td>\n",
              "      <td>2000</td>\n",
              "      <td>-17.6</td>\n",
              "      <td>0.0</td>\n",
              "      <td>0.0</td>\n",
              "      <td>0.0</td>\n",
              "      <td>Winter</td>\n",
              "      <td>No Holiday</td>\n",
              "      <td>Yes</td>\n",
              "    </tr>\n",
              "    <tr>\n",
              "      <th>4</th>\n",
              "      <td>01/12/2017</td>\n",
              "      <td>4</td>\n",
              "      <td>-6.0</td>\n",
              "      <td>36</td>\n",
              "      <td>2.3</td>\n",
              "      <td>2000</td>\n",
              "      <td>-18.6</td>\n",
              "      <td>0.0</td>\n",
              "      <td>0.0</td>\n",
              "      <td>0.0</td>\n",
              "      <td>Winter</td>\n",
              "      <td>No Holiday</td>\n",
              "      <td>Yes</td>\n",
              "    </tr>\n",
              "  </tbody>\n",
              "</table>\n",
              "</div>\n",
              "      <button class=\"colab-df-convert\" onclick=\"convertToInteractive('df-47527e44-c59f-4f71-b981-52b2bad61089')\"\n",
              "              title=\"Convert this dataframe to an interactive table.\"\n",
              "              style=\"display:none;\">\n",
              "        \n",
              "  <svg xmlns=\"http://www.w3.org/2000/svg\" height=\"24px\"viewBox=\"0 0 24 24\"\n",
              "       width=\"24px\">\n",
              "    <path d=\"M0 0h24v24H0V0z\" fill=\"none\"/>\n",
              "    <path d=\"M18.56 5.44l.94 2.06.94-2.06 2.06-.94-2.06-.94-.94-2.06-.94 2.06-2.06.94zm-11 1L8.5 8.5l.94-2.06 2.06-.94-2.06-.94L8.5 2.5l-.94 2.06-2.06.94zm10 10l.94 2.06.94-2.06 2.06-.94-2.06-.94-.94-2.06-.94 2.06-2.06.94z\"/><path d=\"M17.41 7.96l-1.37-1.37c-.4-.4-.92-.59-1.43-.59-.52 0-1.04.2-1.43.59L10.3 9.45l-7.72 7.72c-.78.78-.78 2.05 0 2.83L4 21.41c.39.39.9.59 1.41.59.51 0 1.02-.2 1.41-.59l7.78-7.78 2.81-2.81c.8-.78.8-2.07 0-2.86zM5.41 20L4 18.59l7.72-7.72 1.47 1.35L5.41 20z\"/>\n",
              "  </svg>\n",
              "      </button>\n",
              "      \n",
              "  <style>\n",
              "    .colab-df-container {\n",
              "      display:flex;\n",
              "      flex-wrap:wrap;\n",
              "      gap: 12px;\n",
              "    }\n",
              "\n",
              "    .colab-df-convert {\n",
              "      background-color: #E8F0FE;\n",
              "      border: none;\n",
              "      border-radius: 50%;\n",
              "      cursor: pointer;\n",
              "      display: none;\n",
              "      fill: #1967D2;\n",
              "      height: 32px;\n",
              "      padding: 0 0 0 0;\n",
              "      width: 32px;\n",
              "    }\n",
              "\n",
              "    .colab-df-convert:hover {\n",
              "      background-color: #E2EBFA;\n",
              "      box-shadow: 0px 1px 2px rgba(60, 64, 67, 0.3), 0px 1px 3px 1px rgba(60, 64, 67, 0.15);\n",
              "      fill: #174EA6;\n",
              "    }\n",
              "\n",
              "    [theme=dark] .colab-df-convert {\n",
              "      background-color: #3B4455;\n",
              "      fill: #D2E3FC;\n",
              "    }\n",
              "\n",
              "    [theme=dark] .colab-df-convert:hover {\n",
              "      background-color: #434B5C;\n",
              "      box-shadow: 0px 1px 3px 1px rgba(0, 0, 0, 0.15);\n",
              "      filter: drop-shadow(0px 1px 2px rgba(0, 0, 0, 0.3));\n",
              "      fill: #FFFFFF;\n",
              "    }\n",
              "  </style>\n",
              "\n",
              "      <script>\n",
              "        const buttonEl =\n",
              "          document.querySelector('#df-47527e44-c59f-4f71-b981-52b2bad61089 button.colab-df-convert');\n",
              "        buttonEl.style.display =\n",
              "          google.colab.kernel.accessAllowed ? 'block' : 'none';\n",
              "\n",
              "        async function convertToInteractive(key) {\n",
              "          const element = document.querySelector('#df-47527e44-c59f-4f71-b981-52b2bad61089');\n",
              "          const dataTable =\n",
              "            await google.colab.kernel.invokeFunction('convertToInteractive',\n",
              "                                                     [key], {});\n",
              "          if (!dataTable) return;\n",
              "\n",
              "          const docLinkHtml = 'Like what you see? Visit the ' +\n",
              "            '<a target=\"_blank\" href=https://colab.research.google.com/notebooks/data_table.ipynb>data table notebook</a>'\n",
              "            + ' to learn more about interactive tables.';\n",
              "          element.innerHTML = '';\n",
              "          dataTable['output_type'] = 'display_data';\n",
              "          await google.colab.output.renderOutput(dataTable, element);\n",
              "          const docLink = document.createElement('div');\n",
              "          docLink.innerHTML = docLinkHtml;\n",
              "          element.appendChild(docLink);\n",
              "        }\n",
              "      </script>\n",
              "    </div>\n",
              "  </div>\n",
              "  "
            ]
          },
          "metadata": {},
          "execution_count": 44
        }
      ]
    },
    {
      "cell_type": "code",
      "source": [
        "y.head()"
      ],
      "metadata": {
        "colab": {
          "base_uri": "https://localhost:8080/"
        },
        "id": "o3PURIeI1_vu",
        "outputId": "80642f37-443d-4d49-e4fb-e98bdb5aedab"
      },
      "execution_count": 45,
      "outputs": [
        {
          "output_type": "execute_result",
          "data": {
            "text/plain": [
              "0    254\n",
              "1    204\n",
              "2    173\n",
              "3    107\n",
              "4     78\n",
              "Name: Rented Bike Count, dtype: int64"
            ]
          },
          "metadata": {},
          "execution_count": 45
        }
      ]
    },
    {
      "cell_type": "code",
      "source": [
        "X_train, X_test, y_train, y_test = train_test_split(Bike, y, test_size=0.33, random_state=27 )"
      ],
      "metadata": {
        "id": "76mkVpSIbBf7"
      },
      "execution_count": 46,
      "outputs": []
    },
    {
      "cell_type": "code",
      "source": [
        "print(f'Length of X_train: {len(X_train)}')\n",
        "print(f'Length of X_test: {len(X_test)}')"
      ],
      "metadata": {
        "colab": {
          "base_uri": "https://localhost:8080/"
        },
        "id": "Muc-YHjN2FFG",
        "outputId": "787bd299-9ec8-4249-e292-928702be40c9"
      },
      "execution_count": 47,
      "outputs": [
        {
          "output_type": "stream",
          "name": "stdout",
          "text": [
            "Length of X_train: 5869\n",
            "Length of X_test: 2891\n"
          ]
        }
      ]
    },
    {
      "cell_type": "code",
      "source": [
        "print(f'Length of y_train:{len(y_train)}')\n",
        "print(f'Length of y_test: {len(y_test)}')"
      ],
      "metadata": {
        "colab": {
          "base_uri": "https://localhost:8080/"
        },
        "id": "8-ADGBFs2dKM",
        "outputId": "3807c149-62b1-4810-f4b1-11d873b02cf6"
      },
      "execution_count": 48,
      "outputs": [
        {
          "output_type": "stream",
          "name": "stdout",
          "text": [
            "Length of y_train:5869\n",
            "Length of y_test: 2891\n"
          ]
        }
      ]
    },
    {
      "cell_type": "markdown",
      "source": [
        "### **<font color ='orange'>Pipeline 1**</font>"
      ],
      "metadata": {
        "id": "eYJF2KvT3Co2"
      }
    },
    {
      "cell_type": "code",
      "source": [
        "continuous"
      ],
      "metadata": {
        "colab": {
          "base_uri": "https://localhost:8080/"
        },
        "id": "kPV0Wk0v3BZ3",
        "outputId": "21b6b0b8-9837-4997-f0a1-acea81136587"
      },
      "execution_count": 49,
      "outputs": [
        {
          "output_type": "execute_result",
          "data": {
            "text/plain": [
              "['Temperature(°C)',\n",
              " 'Humidity(%)',\n",
              " 'Wind speed (m/s)',\n",
              " 'Visibility (10m)',\n",
              " 'Dew point temperature(°C)',\n",
              " 'Solar Radiation (MJ/m2)',\n",
              " 'Rainfall(mm)',\n",
              " 'Snowfall (cm)']"
            ]
          },
          "metadata": {},
          "execution_count": 49
        }
      ]
    },
    {
      "cell_type": "code",
      "source": [
        "discrete"
      ],
      "metadata": {
        "colab": {
          "base_uri": "https://localhost:8080/"
        },
        "id": "4n8Kgi1QkHVE",
        "outputId": "0d7cb810-d5a2-4d48-aade-cc490fc93803"
      },
      "execution_count": 50,
      "outputs": [
        {
          "output_type": "execute_result",
          "data": {
            "text/plain": [
              "['Hour']"
            ]
          },
          "metadata": {},
          "execution_count": 50
        }
      ]
    },
    {
      "cell_type": "code",
      "source": [
        "categorical"
      ],
      "metadata": {
        "colab": {
          "base_uri": "https://localhost:8080/"
        },
        "id": "aQ5WnYx_kKZM",
        "outputId": "d28cbb66-6f6f-4401-d4b3-2da4e579a7de"
      },
      "execution_count": 51,
      "outputs": [
        {
          "output_type": "execute_result",
          "data": {
            "text/plain": [
              "['Date', 'Seasons', 'Holiday', 'Functioning Day']"
            ]
          },
          "metadata": {},
          "execution_count": 51
        }
      ]
    },
    {
      "cell_type": "code",
      "source": [
        "columns_to_drop= ['Dew point temperature(°C)','Date', 'Functioning Day' ]"
      ],
      "metadata": {
        "id": "WJTYiMU-d1LZ"
      },
      "execution_count": 52,
      "outputs": []
    },
    {
      "cell_type": "code",
      "source": [
        "\n",
        "Bike_pipeline_1 = Pipeline([\n",
        "    ('Var_drop',\n",
        "     DropFeatures(columns_to_drop)),\n",
        "\n",
        "    ('Yeo_jonson_trans',\n",
        "     YeoJohnsonTransformer(variables=['Temperature(°C)', 'Wind speed (m/s)'])),\n",
        "\n",
        "    ('discretizer_cont', \n",
        "     SklearnTransformerWrapper(KBinsDiscretizer(n_bins=10, encode='ordinal', strategy='kmeans'),\n",
        "                               variables=['Humidity(%)','Visibility (10m)',\n",
        "                                          'Solar Radiation (MJ/m2)','Rainfall(mm)',\n",
        "                                          'Snowfall (cm)'])),\n",
        "    ('discretizer_hour', \n",
        "     SklearnTransformerWrapper(KBinsDiscretizer(n_bins=10, encode='ordinal', strategy='kmeans'),\n",
        "                               variables=['Hour'])),\n",
        "    ('OneHotEncoder', \n",
        "     OneHotEncoder(variables=['Seasons', 'Holiday','Humidity(%)','Visibility (10m)',\n",
        "                              'Solar Radiation (MJ/m2)', 'Rainfall(mm)','Snowfall (cm)', 'Hour' ] ,\n",
        "                    drop_last=True, ignore_format=True)),\n",
        "\n",
        "    ('Outlier',\n",
        "     Winsorizer(capping_method='gaussian', tail='both', variables=['Wind speed (m/s)'] )),\n",
        "\n",
        "    ('Scalar',\n",
        "     SklearnTransformerWrapper(MinMaxScaler(), variables=['Temperature(°C)', 'Wind speed (m/s)'])),\n",
        "\n",
        "    ('KNNR',\n",
        "     KNeighborsRegressor())\n",
        "\n",
        "])"
      ],
      "metadata": {
        "id": "tKRnwBVMkP1J"
      },
      "execution_count": 53,
      "outputs": []
    },
    {
      "cell_type": "code",
      "source": [
        "set_config(display='diagram')\n",
        "Bike_pipeline_1"
      ],
      "metadata": {
        "colab": {
          "base_uri": "https://localhost:8080/",
          "height": 533
        },
        "id": "2VdJHV1M4u6K",
        "outputId": "a07fb234-bafe-4fcc-bff8-9f8215c97503"
      },
      "execution_count": 54,
      "outputs": [
        {
          "output_type": "execute_result",
          "data": {
            "text/plain": [
              "Pipeline(steps=[('Var_drop',\n",
              "                 DropFeatures(features_to_drop=['Dew point temperature(°C)',\n",
              "                                                'Date', 'Functioning Day'])),\n",
              "                ('Yeo_jonson_trans',\n",
              "                 YeoJohnsonTransformer(variables=['Temperature(°C)',\n",
              "                                                  'Wind speed (m/s)'])),\n",
              "                ('discretizer_cont',\n",
              "                 SklearnTransformerWrapper(transformer=KBinsDiscretizer(encode='ordinal',\n",
              "                                                                        n_bins=10,\n",
              "                                                                        strategy='kmeans'),\n",
              "                                           variables=['Humidity(%)',\n",
              "                                                      '...\n",
              "                 OneHotEncoder(drop_last=True, ignore_format=True,\n",
              "                               variables=['Seasons', 'Holiday', 'Humidity(%)',\n",
              "                                          'Visibility (10m)',\n",
              "                                          'Solar Radiation (MJ/m2)',\n",
              "                                          'Rainfall(mm)', 'Snowfall (cm)',\n",
              "                                          'Hour'])),\n",
              "                ('Outlier',\n",
              "                 Winsorizer(tail='both', variables=['Wind speed (m/s)'])),\n",
              "                ('Scalar',\n",
              "                 SklearnTransformerWrapper(transformer=MinMaxScaler(),\n",
              "                                           variables=['Temperature(°C)',\n",
              "                                                      'Wind speed (m/s)'])),\n",
              "                ('KNNR', KNeighborsRegressor())])"
            ],
            "text/html": [
              "<style>#sk-container-id-1 {color: black;background-color: white;}#sk-container-id-1 pre{padding: 0;}#sk-container-id-1 div.sk-toggleable {background-color: white;}#sk-container-id-1 label.sk-toggleable__label {cursor: pointer;display: block;width: 100%;margin-bottom: 0;padding: 0.3em;box-sizing: border-box;text-align: center;}#sk-container-id-1 label.sk-toggleable__label-arrow:before {content: \"▸\";float: left;margin-right: 0.25em;color: #696969;}#sk-container-id-1 label.sk-toggleable__label-arrow:hover:before {color: black;}#sk-container-id-1 div.sk-estimator:hover label.sk-toggleable__label-arrow:before {color: black;}#sk-container-id-1 div.sk-toggleable__content {max-height: 0;max-width: 0;overflow: hidden;text-align: left;background-color: #f0f8ff;}#sk-container-id-1 div.sk-toggleable__content pre {margin: 0.2em;color: black;border-radius: 0.25em;background-color: #f0f8ff;}#sk-container-id-1 input.sk-toggleable__control:checked~div.sk-toggleable__content {max-height: 200px;max-width: 100%;overflow: auto;}#sk-container-id-1 input.sk-toggleable__control:checked~label.sk-toggleable__label-arrow:before {content: \"▾\";}#sk-container-id-1 div.sk-estimator input.sk-toggleable__control:checked~label.sk-toggleable__label {background-color: #d4ebff;}#sk-container-id-1 div.sk-label input.sk-toggleable__control:checked~label.sk-toggleable__label {background-color: #d4ebff;}#sk-container-id-1 input.sk-hidden--visually {border: 0;clip: rect(1px 1px 1px 1px);clip: rect(1px, 1px, 1px, 1px);height: 1px;margin: -1px;overflow: hidden;padding: 0;position: absolute;width: 1px;}#sk-container-id-1 div.sk-estimator {font-family: monospace;background-color: #f0f8ff;border: 1px dotted black;border-radius: 0.25em;box-sizing: border-box;margin-bottom: 0.5em;}#sk-container-id-1 div.sk-estimator:hover {background-color: #d4ebff;}#sk-container-id-1 div.sk-parallel-item::after {content: \"\";width: 100%;border-bottom: 1px solid gray;flex-grow: 1;}#sk-container-id-1 div.sk-label:hover label.sk-toggleable__label {background-color: #d4ebff;}#sk-container-id-1 div.sk-serial::before {content: \"\";position: absolute;border-left: 1px solid gray;box-sizing: border-box;top: 0;bottom: 0;left: 50%;z-index: 0;}#sk-container-id-1 div.sk-serial {display: flex;flex-direction: column;align-items: center;background-color: white;padding-right: 0.2em;padding-left: 0.2em;position: relative;}#sk-container-id-1 div.sk-item {position: relative;z-index: 1;}#sk-container-id-1 div.sk-parallel {display: flex;align-items: stretch;justify-content: center;background-color: white;position: relative;}#sk-container-id-1 div.sk-item::before, #sk-container-id-1 div.sk-parallel-item::before {content: \"\";position: absolute;border-left: 1px solid gray;box-sizing: border-box;top: 0;bottom: 0;left: 50%;z-index: -1;}#sk-container-id-1 div.sk-parallel-item {display: flex;flex-direction: column;z-index: 1;position: relative;background-color: white;}#sk-container-id-1 div.sk-parallel-item:first-child::after {align-self: flex-end;width: 50%;}#sk-container-id-1 div.sk-parallel-item:last-child::after {align-self: flex-start;width: 50%;}#sk-container-id-1 div.sk-parallel-item:only-child::after {width: 0;}#sk-container-id-1 div.sk-dashed-wrapped {border: 1px dashed gray;margin: 0 0.4em 0.5em 0.4em;box-sizing: border-box;padding-bottom: 0.4em;background-color: white;}#sk-container-id-1 div.sk-label label {font-family: monospace;font-weight: bold;display: inline-block;line-height: 1.2em;}#sk-container-id-1 div.sk-label-container {text-align: center;}#sk-container-id-1 div.sk-container {/* jupyter's `normalize.less` sets `[hidden] { display: none; }` but bootstrap.min.css set `[hidden] { display: none !important; }` so we also need the `!important` here to be able to override the default hidden behavior on the sphinx rendered scikit-learn.org. See: https://github.com/scikit-learn/scikit-learn/issues/21755 */display: inline-block !important;position: relative;}#sk-container-id-1 div.sk-text-repr-fallback {display: none;}</style><div id=\"sk-container-id-1\" class=\"sk-top-container\"><div class=\"sk-text-repr-fallback\"><pre>Pipeline(steps=[(&#x27;Var_drop&#x27;,\n",
              "                 DropFeatures(features_to_drop=[&#x27;Dew point temperature(°C)&#x27;,\n",
              "                                                &#x27;Date&#x27;, &#x27;Functioning Day&#x27;])),\n",
              "                (&#x27;Yeo_jonson_trans&#x27;,\n",
              "                 YeoJohnsonTransformer(variables=[&#x27;Temperature(°C)&#x27;,\n",
              "                                                  &#x27;Wind speed (m/s)&#x27;])),\n",
              "                (&#x27;discretizer_cont&#x27;,\n",
              "                 SklearnTransformerWrapper(transformer=KBinsDiscretizer(encode=&#x27;ordinal&#x27;,\n",
              "                                                                        n_bins=10,\n",
              "                                                                        strategy=&#x27;kmeans&#x27;),\n",
              "                                           variables=[&#x27;Humidity(%)&#x27;,\n",
              "                                                      &#x27;...\n",
              "                 OneHotEncoder(drop_last=True, ignore_format=True,\n",
              "                               variables=[&#x27;Seasons&#x27;, &#x27;Holiday&#x27;, &#x27;Humidity(%)&#x27;,\n",
              "                                          &#x27;Visibility (10m)&#x27;,\n",
              "                                          &#x27;Solar Radiation (MJ/m2)&#x27;,\n",
              "                                          &#x27;Rainfall(mm)&#x27;, &#x27;Snowfall (cm)&#x27;,\n",
              "                                          &#x27;Hour&#x27;])),\n",
              "                (&#x27;Outlier&#x27;,\n",
              "                 Winsorizer(tail=&#x27;both&#x27;, variables=[&#x27;Wind speed (m/s)&#x27;])),\n",
              "                (&#x27;Scalar&#x27;,\n",
              "                 SklearnTransformerWrapper(transformer=MinMaxScaler(),\n",
              "                                           variables=[&#x27;Temperature(°C)&#x27;,\n",
              "                                                      &#x27;Wind speed (m/s)&#x27;])),\n",
              "                (&#x27;KNNR&#x27;, KNeighborsRegressor())])</pre><b>In a Jupyter environment, please rerun this cell to show the HTML representation or trust the notebook. <br />On GitHub, the HTML representation is unable to render, please try loading this page with nbviewer.org.</b></div><div class=\"sk-container\" hidden><div class=\"sk-item sk-dashed-wrapped\"><div class=\"sk-label-container\"><div class=\"sk-label sk-toggleable\"><input class=\"sk-toggleable__control sk-hidden--visually\" id=\"sk-estimator-id-1\" type=\"checkbox\" ><label for=\"sk-estimator-id-1\" class=\"sk-toggleable__label sk-toggleable__label-arrow\">Pipeline</label><div class=\"sk-toggleable__content\"><pre>Pipeline(steps=[(&#x27;Var_drop&#x27;,\n",
              "                 DropFeatures(features_to_drop=[&#x27;Dew point temperature(°C)&#x27;,\n",
              "                                                &#x27;Date&#x27;, &#x27;Functioning Day&#x27;])),\n",
              "                (&#x27;Yeo_jonson_trans&#x27;,\n",
              "                 YeoJohnsonTransformer(variables=[&#x27;Temperature(°C)&#x27;,\n",
              "                                                  &#x27;Wind speed (m/s)&#x27;])),\n",
              "                (&#x27;discretizer_cont&#x27;,\n",
              "                 SklearnTransformerWrapper(transformer=KBinsDiscretizer(encode=&#x27;ordinal&#x27;,\n",
              "                                                                        n_bins=10,\n",
              "                                                                        strategy=&#x27;kmeans&#x27;),\n",
              "                                           variables=[&#x27;Humidity(%)&#x27;,\n",
              "                                                      &#x27;...\n",
              "                 OneHotEncoder(drop_last=True, ignore_format=True,\n",
              "                               variables=[&#x27;Seasons&#x27;, &#x27;Holiday&#x27;, &#x27;Humidity(%)&#x27;,\n",
              "                                          &#x27;Visibility (10m)&#x27;,\n",
              "                                          &#x27;Solar Radiation (MJ/m2)&#x27;,\n",
              "                                          &#x27;Rainfall(mm)&#x27;, &#x27;Snowfall (cm)&#x27;,\n",
              "                                          &#x27;Hour&#x27;])),\n",
              "                (&#x27;Outlier&#x27;,\n",
              "                 Winsorizer(tail=&#x27;both&#x27;, variables=[&#x27;Wind speed (m/s)&#x27;])),\n",
              "                (&#x27;Scalar&#x27;,\n",
              "                 SklearnTransformerWrapper(transformer=MinMaxScaler(),\n",
              "                                           variables=[&#x27;Temperature(°C)&#x27;,\n",
              "                                                      &#x27;Wind speed (m/s)&#x27;])),\n",
              "                (&#x27;KNNR&#x27;, KNeighborsRegressor())])</pre></div></div></div><div class=\"sk-serial\"><div class=\"sk-item\"><div class=\"sk-estimator sk-toggleable\"><input class=\"sk-toggleable__control sk-hidden--visually\" id=\"sk-estimator-id-2\" type=\"checkbox\" ><label for=\"sk-estimator-id-2\" class=\"sk-toggleable__label sk-toggleable__label-arrow\">DropFeatures</label><div class=\"sk-toggleable__content\"><pre>DropFeatures(features_to_drop=[&#x27;Dew point temperature(°C)&#x27;, &#x27;Date&#x27;,\n",
              "                               &#x27;Functioning Day&#x27;])</pre></div></div></div><div class=\"sk-item\"><div class=\"sk-estimator sk-toggleable\"><input class=\"sk-toggleable__control sk-hidden--visually\" id=\"sk-estimator-id-3\" type=\"checkbox\" ><label for=\"sk-estimator-id-3\" class=\"sk-toggleable__label sk-toggleable__label-arrow\">YeoJohnsonTransformer</label><div class=\"sk-toggleable__content\"><pre>YeoJohnsonTransformer(variables=[&#x27;Temperature(°C)&#x27;, &#x27;Wind speed (m/s)&#x27;])</pre></div></div></div><div class=\"sk-item sk-dashed-wrapped\"><div class=\"sk-label-container\"><div class=\"sk-label sk-toggleable\"><input class=\"sk-toggleable__control sk-hidden--visually\" id=\"sk-estimator-id-4\" type=\"checkbox\" ><label for=\"sk-estimator-id-4\" class=\"sk-toggleable__label sk-toggleable__label-arrow\">discretizer_cont: SklearnTransformerWrapper</label><div class=\"sk-toggleable__content\"><pre>SklearnTransformerWrapper(transformer=KBinsDiscretizer(encode=&#x27;ordinal&#x27;,\n",
              "                                                       n_bins=10,\n",
              "                                                       strategy=&#x27;kmeans&#x27;),\n",
              "                          variables=[&#x27;Humidity(%)&#x27;, &#x27;Visibility (10m)&#x27;,\n",
              "                                     &#x27;Solar Radiation (MJ/m2)&#x27;, &#x27;Rainfall(mm)&#x27;,\n",
              "                                     &#x27;Snowfall (cm)&#x27;])</pre></div></div></div><div class=\"sk-parallel\"><div class=\"sk-parallel-item\"><div class=\"sk-item\"><div class=\"sk-label-container\"><div class=\"sk-label sk-toggleable\"><input class=\"sk-toggleable__control sk-hidden--visually\" id=\"sk-estimator-id-5\" type=\"checkbox\" ><label for=\"sk-estimator-id-5\" class=\"sk-toggleable__label sk-toggleable__label-arrow\">transformer: KBinsDiscretizer</label><div class=\"sk-toggleable__content\"><pre>KBinsDiscretizer(encode=&#x27;ordinal&#x27;, n_bins=10, strategy=&#x27;kmeans&#x27;)</pre></div></div></div><div class=\"sk-serial\"><div class=\"sk-item\"><div class=\"sk-estimator sk-toggleable\"><input class=\"sk-toggleable__control sk-hidden--visually\" id=\"sk-estimator-id-6\" type=\"checkbox\" ><label for=\"sk-estimator-id-6\" class=\"sk-toggleable__label sk-toggleable__label-arrow\">KBinsDiscretizer</label><div class=\"sk-toggleable__content\"><pre>KBinsDiscretizer(encode=&#x27;ordinal&#x27;, n_bins=10, strategy=&#x27;kmeans&#x27;)</pre></div></div></div></div></div></div></div></div><div class=\"sk-item sk-dashed-wrapped\"><div class=\"sk-label-container\"><div class=\"sk-label sk-toggleable\"><input class=\"sk-toggleable__control sk-hidden--visually\" id=\"sk-estimator-id-7\" type=\"checkbox\" ><label for=\"sk-estimator-id-7\" class=\"sk-toggleable__label sk-toggleable__label-arrow\">discretizer_hour: SklearnTransformerWrapper</label><div class=\"sk-toggleable__content\"><pre>SklearnTransformerWrapper(transformer=KBinsDiscretizer(encode=&#x27;ordinal&#x27;,\n",
              "                                                       n_bins=10,\n",
              "                                                       strategy=&#x27;kmeans&#x27;),\n",
              "                          variables=[&#x27;Hour&#x27;])</pre></div></div></div><div class=\"sk-parallel\"><div class=\"sk-parallel-item\"><div class=\"sk-item\"><div class=\"sk-label-container\"><div class=\"sk-label sk-toggleable\"><input class=\"sk-toggleable__control sk-hidden--visually\" id=\"sk-estimator-id-8\" type=\"checkbox\" ><label for=\"sk-estimator-id-8\" class=\"sk-toggleable__label sk-toggleable__label-arrow\">transformer: KBinsDiscretizer</label><div class=\"sk-toggleable__content\"><pre>KBinsDiscretizer(encode=&#x27;ordinal&#x27;, n_bins=10, strategy=&#x27;kmeans&#x27;)</pre></div></div></div><div class=\"sk-serial\"><div class=\"sk-item\"><div class=\"sk-estimator sk-toggleable\"><input class=\"sk-toggleable__control sk-hidden--visually\" id=\"sk-estimator-id-9\" type=\"checkbox\" ><label for=\"sk-estimator-id-9\" class=\"sk-toggleable__label sk-toggleable__label-arrow\">KBinsDiscretizer</label><div class=\"sk-toggleable__content\"><pre>KBinsDiscretizer(encode=&#x27;ordinal&#x27;, n_bins=10, strategy=&#x27;kmeans&#x27;)</pre></div></div></div></div></div></div></div></div><div class=\"sk-item\"><div class=\"sk-estimator sk-toggleable\"><input class=\"sk-toggleable__control sk-hidden--visually\" id=\"sk-estimator-id-10\" type=\"checkbox\" ><label for=\"sk-estimator-id-10\" class=\"sk-toggleable__label sk-toggleable__label-arrow\">OneHotEncoder</label><div class=\"sk-toggleable__content\"><pre>OneHotEncoder(drop_last=True, ignore_format=True,\n",
              "              variables=[&#x27;Seasons&#x27;, &#x27;Holiday&#x27;, &#x27;Humidity(%)&#x27;,\n",
              "                         &#x27;Visibility (10m)&#x27;, &#x27;Solar Radiation (MJ/m2)&#x27;,\n",
              "                         &#x27;Rainfall(mm)&#x27;, &#x27;Snowfall (cm)&#x27;, &#x27;Hour&#x27;])</pre></div></div></div><div class=\"sk-item\"><div class=\"sk-estimator sk-toggleable\"><input class=\"sk-toggleable__control sk-hidden--visually\" id=\"sk-estimator-id-11\" type=\"checkbox\" ><label for=\"sk-estimator-id-11\" class=\"sk-toggleable__label sk-toggleable__label-arrow\">Winsorizer</label><div class=\"sk-toggleable__content\"><pre>Winsorizer(tail=&#x27;both&#x27;, variables=[&#x27;Wind speed (m/s)&#x27;])</pre></div></div></div><div class=\"sk-item sk-dashed-wrapped\"><div class=\"sk-label-container\"><div class=\"sk-label sk-toggleable\"><input class=\"sk-toggleable__control sk-hidden--visually\" id=\"sk-estimator-id-12\" type=\"checkbox\" ><label for=\"sk-estimator-id-12\" class=\"sk-toggleable__label sk-toggleable__label-arrow\">Scalar: SklearnTransformerWrapper</label><div class=\"sk-toggleable__content\"><pre>SklearnTransformerWrapper(transformer=MinMaxScaler(),\n",
              "                          variables=[&#x27;Temperature(°C)&#x27;, &#x27;Wind speed (m/s)&#x27;])</pre></div></div></div><div class=\"sk-parallel\"><div class=\"sk-parallel-item\"><div class=\"sk-item\"><div class=\"sk-label-container\"><div class=\"sk-label sk-toggleable\"><input class=\"sk-toggleable__control sk-hidden--visually\" id=\"sk-estimator-id-13\" type=\"checkbox\" ><label for=\"sk-estimator-id-13\" class=\"sk-toggleable__label sk-toggleable__label-arrow\">transformer: MinMaxScaler</label><div class=\"sk-toggleable__content\"><pre>MinMaxScaler()</pre></div></div></div><div class=\"sk-serial\"><div class=\"sk-item\"><div class=\"sk-estimator sk-toggleable\"><input class=\"sk-toggleable__control sk-hidden--visually\" id=\"sk-estimator-id-14\" type=\"checkbox\" ><label for=\"sk-estimator-id-14\" class=\"sk-toggleable__label sk-toggleable__label-arrow\">MinMaxScaler</label><div class=\"sk-toggleable__content\"><pre>MinMaxScaler()</pre></div></div></div></div></div></div></div></div><div class=\"sk-item\"><div class=\"sk-estimator sk-toggleable\"><input class=\"sk-toggleable__control sk-hidden--visually\" id=\"sk-estimator-id-15\" type=\"checkbox\" ><label for=\"sk-estimator-id-15\" class=\"sk-toggleable__label sk-toggleable__label-arrow\">KNeighborsRegressor</label><div class=\"sk-toggleable__content\"><pre>KNeighborsRegressor()</pre></div></div></div></div></div></div></div>"
            ]
          },
          "metadata": {},
          "execution_count": 54
        }
      ]
    },
    {
      "cell_type": "markdown",
      "source": [
        "### **<font color ='orange'>Hyperparameter Tuning-Round 1**</font>\n"
      ],
      "metadata": {
        "id": "uImPJQQ0jcB3"
      }
    },
    {
      "cell_type": "markdown",
      "source": [
        "#### <font color='orange'> **Specify Param Grid**"
      ],
      "metadata": {
        "id": "FwK0p84ekBLV"
      }
    },
    {
      "cell_type": "code",
      "source": [
        "param_grid1={\n",
        "    'discretizer_cont__transformer__n_bins': range(2,10,2),\n",
        "    'discretizer_hour__transformer__n_bins': range(2,10,2),\n",
        "    'Scalar__transformer':[StandardScaler(), MinMaxScaler()],\n",
        "    'KNNR__n_neighbors': [1]\n",
        "}\n",
        "\n",
        "grid_knnr_1= GridSearchCV(Bike_pipeline_1, param_grid1, \n",
        "                          cv=5, return_train_score=True)"
      ],
      "metadata": {
        "id": "KmIk2lgHkT0F"
      },
      "execution_count": 55,
      "outputs": []
    },
    {
      "cell_type": "markdown",
      "source": [
        "#### <font color = 'Orange'>**Fit Model**"
      ],
      "metadata": {
        "id": "eShhdKpDYEey"
      }
    },
    {
      "cell_type": "code",
      "metadata": {
        "execution": {
          "iopub.execute_input": "2021-10-06T19:07:51.941649Z",
          "iopub.status.busy": "2021-10-06T19:07:51.941395Z",
          "iopub.status.idle": "2021-10-06T19:08:57.942180Z",
          "shell.execute_reply": "2021-10-06T19:08:57.941817Z",
          "shell.execute_reply.started": "2021-10-06T19:07:51.941615Z"
        },
        "id": "HRNYXliAttst",
        "tags": [],
        "colab": {
          "base_uri": "https://localhost:8080/",
          "height": 559
        },
        "outputId": "14d77aed-a2e7-41f6-83e8-125a666240c0"
      },
      "source": [
        "grid_knnr_1.fit(X_train, y_train)"
      ],
      "execution_count": 56,
      "outputs": [
        {
          "output_type": "execute_result",
          "data": {
            "text/plain": [
              "GridSearchCV(cv=5,\n",
              "             estimator=Pipeline(steps=[('Var_drop',\n",
              "                                        DropFeatures(features_to_drop=['Dew '\n",
              "                                                                       'point '\n",
              "                                                                       'temperature(°C)',\n",
              "                                                                       'Date',\n",
              "                                                                       'Functioning '\n",
              "                                                                       'Day'])),\n",
              "                                       ('Yeo_jonson_trans',\n",
              "                                        YeoJohnsonTransformer(variables=['Temperature(°C)',\n",
              "                                                                         'Wind '\n",
              "                                                                         'speed '\n",
              "                                                                         '(m/s)'])),\n",
              "                                       ('discretizer_cont',\n",
              "                                        SklearnTransformerWrapper(transformer=KBinsDiscretizer(encode='ordinal',\n",
              "                                                                                               n_bins=10,\n",
              "                                                                                               strateg...\n",
              "                                        SklearnTransformerWrapper(transformer=MinMaxScaler(),\n",
              "                                                                  variables=['Temperature(°C)',\n",
              "                                                                             'Wind '\n",
              "                                                                             'speed '\n",
              "                                                                             '(m/s)'])),\n",
              "                                       ('KNNR', KNeighborsRegressor())]),\n",
              "             param_grid={'KNNR__n_neighbors': [1],\n",
              "                         'Scalar__transformer': [StandardScaler(),\n",
              "                                                 MinMaxScaler()],\n",
              "                         'discretizer_cont__transformer__n_bins': range(2, 10, 2),\n",
              "                         'discretizer_hour__transformer__n_bins': range(2, 10, 2)},\n",
              "             return_train_score=True)"
            ],
            "text/html": [
              "<style>#sk-container-id-2 {color: black;background-color: white;}#sk-container-id-2 pre{padding: 0;}#sk-container-id-2 div.sk-toggleable {background-color: white;}#sk-container-id-2 label.sk-toggleable__label {cursor: pointer;display: block;width: 100%;margin-bottom: 0;padding: 0.3em;box-sizing: border-box;text-align: center;}#sk-container-id-2 label.sk-toggleable__label-arrow:before {content: \"▸\";float: left;margin-right: 0.25em;color: #696969;}#sk-container-id-2 label.sk-toggleable__label-arrow:hover:before {color: black;}#sk-container-id-2 div.sk-estimator:hover label.sk-toggleable__label-arrow:before {color: black;}#sk-container-id-2 div.sk-toggleable__content {max-height: 0;max-width: 0;overflow: hidden;text-align: left;background-color: #f0f8ff;}#sk-container-id-2 div.sk-toggleable__content pre {margin: 0.2em;color: black;border-radius: 0.25em;background-color: #f0f8ff;}#sk-container-id-2 input.sk-toggleable__control:checked~div.sk-toggleable__content {max-height: 200px;max-width: 100%;overflow: auto;}#sk-container-id-2 input.sk-toggleable__control:checked~label.sk-toggleable__label-arrow:before {content: \"▾\";}#sk-container-id-2 div.sk-estimator input.sk-toggleable__control:checked~label.sk-toggleable__label {background-color: #d4ebff;}#sk-container-id-2 div.sk-label input.sk-toggleable__control:checked~label.sk-toggleable__label {background-color: #d4ebff;}#sk-container-id-2 input.sk-hidden--visually {border: 0;clip: rect(1px 1px 1px 1px);clip: rect(1px, 1px, 1px, 1px);height: 1px;margin: -1px;overflow: hidden;padding: 0;position: absolute;width: 1px;}#sk-container-id-2 div.sk-estimator {font-family: monospace;background-color: #f0f8ff;border: 1px dotted black;border-radius: 0.25em;box-sizing: border-box;margin-bottom: 0.5em;}#sk-container-id-2 div.sk-estimator:hover {background-color: #d4ebff;}#sk-container-id-2 div.sk-parallel-item::after {content: \"\";width: 100%;border-bottom: 1px solid gray;flex-grow: 1;}#sk-container-id-2 div.sk-label:hover label.sk-toggleable__label {background-color: #d4ebff;}#sk-container-id-2 div.sk-serial::before {content: \"\";position: absolute;border-left: 1px solid gray;box-sizing: border-box;top: 0;bottom: 0;left: 50%;z-index: 0;}#sk-container-id-2 div.sk-serial {display: flex;flex-direction: column;align-items: center;background-color: white;padding-right: 0.2em;padding-left: 0.2em;position: relative;}#sk-container-id-2 div.sk-item {position: relative;z-index: 1;}#sk-container-id-2 div.sk-parallel {display: flex;align-items: stretch;justify-content: center;background-color: white;position: relative;}#sk-container-id-2 div.sk-item::before, #sk-container-id-2 div.sk-parallel-item::before {content: \"\";position: absolute;border-left: 1px solid gray;box-sizing: border-box;top: 0;bottom: 0;left: 50%;z-index: -1;}#sk-container-id-2 div.sk-parallel-item {display: flex;flex-direction: column;z-index: 1;position: relative;background-color: white;}#sk-container-id-2 div.sk-parallel-item:first-child::after {align-self: flex-end;width: 50%;}#sk-container-id-2 div.sk-parallel-item:last-child::after {align-self: flex-start;width: 50%;}#sk-container-id-2 div.sk-parallel-item:only-child::after {width: 0;}#sk-container-id-2 div.sk-dashed-wrapped {border: 1px dashed gray;margin: 0 0.4em 0.5em 0.4em;box-sizing: border-box;padding-bottom: 0.4em;background-color: white;}#sk-container-id-2 div.sk-label label {font-family: monospace;font-weight: bold;display: inline-block;line-height: 1.2em;}#sk-container-id-2 div.sk-label-container {text-align: center;}#sk-container-id-2 div.sk-container {/* jupyter's `normalize.less` sets `[hidden] { display: none; }` but bootstrap.min.css set `[hidden] { display: none !important; }` so we also need the `!important` here to be able to override the default hidden behavior on the sphinx rendered scikit-learn.org. See: https://github.com/scikit-learn/scikit-learn/issues/21755 */display: inline-block !important;position: relative;}#sk-container-id-2 div.sk-text-repr-fallback {display: none;}</style><div id=\"sk-container-id-2\" class=\"sk-top-container\"><div class=\"sk-text-repr-fallback\"><pre>GridSearchCV(cv=5,\n",
              "             estimator=Pipeline(steps=[(&#x27;Var_drop&#x27;,\n",
              "                                        DropFeatures(features_to_drop=[&#x27;Dew &#x27;\n",
              "                                                                       &#x27;point &#x27;\n",
              "                                                                       &#x27;temperature(°C)&#x27;,\n",
              "                                                                       &#x27;Date&#x27;,\n",
              "                                                                       &#x27;Functioning &#x27;\n",
              "                                                                       &#x27;Day&#x27;])),\n",
              "                                       (&#x27;Yeo_jonson_trans&#x27;,\n",
              "                                        YeoJohnsonTransformer(variables=[&#x27;Temperature(°C)&#x27;,\n",
              "                                                                         &#x27;Wind &#x27;\n",
              "                                                                         &#x27;speed &#x27;\n",
              "                                                                         &#x27;(m/s)&#x27;])),\n",
              "                                       (&#x27;discretizer_cont&#x27;,\n",
              "                                        SklearnTransformerWrapper(transformer=KBinsDiscretizer(encode=&#x27;ordinal&#x27;,\n",
              "                                                                                               n_bins=10,\n",
              "                                                                                               strateg...\n",
              "                                        SklearnTransformerWrapper(transformer=MinMaxScaler(),\n",
              "                                                                  variables=[&#x27;Temperature(°C)&#x27;,\n",
              "                                                                             &#x27;Wind &#x27;\n",
              "                                                                             &#x27;speed &#x27;\n",
              "                                                                             &#x27;(m/s)&#x27;])),\n",
              "                                       (&#x27;KNNR&#x27;, KNeighborsRegressor())]),\n",
              "             param_grid={&#x27;KNNR__n_neighbors&#x27;: [1],\n",
              "                         &#x27;Scalar__transformer&#x27;: [StandardScaler(),\n",
              "                                                 MinMaxScaler()],\n",
              "                         &#x27;discretizer_cont__transformer__n_bins&#x27;: range(2, 10, 2),\n",
              "                         &#x27;discretizer_hour__transformer__n_bins&#x27;: range(2, 10, 2)},\n",
              "             return_train_score=True)</pre><b>In a Jupyter environment, please rerun this cell to show the HTML representation or trust the notebook. <br />On GitHub, the HTML representation is unable to render, please try loading this page with nbviewer.org.</b></div><div class=\"sk-container\" hidden><div class=\"sk-item sk-dashed-wrapped\"><div class=\"sk-label-container\"><div class=\"sk-label sk-toggleable\"><input class=\"sk-toggleable__control sk-hidden--visually\" id=\"sk-estimator-id-16\" type=\"checkbox\" ><label for=\"sk-estimator-id-16\" class=\"sk-toggleable__label sk-toggleable__label-arrow\">GridSearchCV</label><div class=\"sk-toggleable__content\"><pre>GridSearchCV(cv=5,\n",
              "             estimator=Pipeline(steps=[(&#x27;Var_drop&#x27;,\n",
              "                                        DropFeatures(features_to_drop=[&#x27;Dew &#x27;\n",
              "                                                                       &#x27;point &#x27;\n",
              "                                                                       &#x27;temperature(°C)&#x27;,\n",
              "                                                                       &#x27;Date&#x27;,\n",
              "                                                                       &#x27;Functioning &#x27;\n",
              "                                                                       &#x27;Day&#x27;])),\n",
              "                                       (&#x27;Yeo_jonson_trans&#x27;,\n",
              "                                        YeoJohnsonTransformer(variables=[&#x27;Temperature(°C)&#x27;,\n",
              "                                                                         &#x27;Wind &#x27;\n",
              "                                                                         &#x27;speed &#x27;\n",
              "                                                                         &#x27;(m/s)&#x27;])),\n",
              "                                       (&#x27;discretizer_cont&#x27;,\n",
              "                                        SklearnTransformerWrapper(transformer=KBinsDiscretizer(encode=&#x27;ordinal&#x27;,\n",
              "                                                                                               n_bins=10,\n",
              "                                                                                               strateg...\n",
              "                                        SklearnTransformerWrapper(transformer=MinMaxScaler(),\n",
              "                                                                  variables=[&#x27;Temperature(°C)&#x27;,\n",
              "                                                                             &#x27;Wind &#x27;\n",
              "                                                                             &#x27;speed &#x27;\n",
              "                                                                             &#x27;(m/s)&#x27;])),\n",
              "                                       (&#x27;KNNR&#x27;, KNeighborsRegressor())]),\n",
              "             param_grid={&#x27;KNNR__n_neighbors&#x27;: [1],\n",
              "                         &#x27;Scalar__transformer&#x27;: [StandardScaler(),\n",
              "                                                 MinMaxScaler()],\n",
              "                         &#x27;discretizer_cont__transformer__n_bins&#x27;: range(2, 10, 2),\n",
              "                         &#x27;discretizer_hour__transformer__n_bins&#x27;: range(2, 10, 2)},\n",
              "             return_train_score=True)</pre></div></div></div><div class=\"sk-parallel\"><div class=\"sk-parallel-item\"><div class=\"sk-item\"><div class=\"sk-label-container\"><div class=\"sk-label sk-toggleable\"><input class=\"sk-toggleable__control sk-hidden--visually\" id=\"sk-estimator-id-17\" type=\"checkbox\" ><label for=\"sk-estimator-id-17\" class=\"sk-toggleable__label sk-toggleable__label-arrow\">estimator: Pipeline</label><div class=\"sk-toggleable__content\"><pre>Pipeline(steps=[(&#x27;Var_drop&#x27;,\n",
              "                 DropFeatures(features_to_drop=[&#x27;Dew point temperature(°C)&#x27;,\n",
              "                                                &#x27;Date&#x27;, &#x27;Functioning Day&#x27;])),\n",
              "                (&#x27;Yeo_jonson_trans&#x27;,\n",
              "                 YeoJohnsonTransformer(variables=[&#x27;Temperature(°C)&#x27;,\n",
              "                                                  &#x27;Wind speed (m/s)&#x27;])),\n",
              "                (&#x27;discretizer_cont&#x27;,\n",
              "                 SklearnTransformerWrapper(transformer=KBinsDiscretizer(encode=&#x27;ordinal&#x27;,\n",
              "                                                                        n_bins=10,\n",
              "                                                                        strategy=&#x27;kmeans&#x27;),\n",
              "                                           variables=[&#x27;Humidity(%)&#x27;,\n",
              "                                                      &#x27;...\n",
              "                 OneHotEncoder(drop_last=True, ignore_format=True,\n",
              "                               variables=[&#x27;Seasons&#x27;, &#x27;Holiday&#x27;, &#x27;Humidity(%)&#x27;,\n",
              "                                          &#x27;Visibility (10m)&#x27;,\n",
              "                                          &#x27;Solar Radiation (MJ/m2)&#x27;,\n",
              "                                          &#x27;Rainfall(mm)&#x27;, &#x27;Snowfall (cm)&#x27;,\n",
              "                                          &#x27;Hour&#x27;])),\n",
              "                (&#x27;Outlier&#x27;,\n",
              "                 Winsorizer(tail=&#x27;both&#x27;, variables=[&#x27;Wind speed (m/s)&#x27;])),\n",
              "                (&#x27;Scalar&#x27;,\n",
              "                 SklearnTransformerWrapper(transformer=MinMaxScaler(),\n",
              "                                           variables=[&#x27;Temperature(°C)&#x27;,\n",
              "                                                      &#x27;Wind speed (m/s)&#x27;])),\n",
              "                (&#x27;KNNR&#x27;, KNeighborsRegressor())])</pre></div></div></div><div class=\"sk-serial\"><div class=\"sk-item\"><div class=\"sk-serial\"><div class=\"sk-item\"><div class=\"sk-estimator sk-toggleable\"><input class=\"sk-toggleable__control sk-hidden--visually\" id=\"sk-estimator-id-18\" type=\"checkbox\" ><label for=\"sk-estimator-id-18\" class=\"sk-toggleable__label sk-toggleable__label-arrow\">DropFeatures</label><div class=\"sk-toggleable__content\"><pre>DropFeatures(features_to_drop=[&#x27;Dew point temperature(°C)&#x27;, &#x27;Date&#x27;,\n",
              "                               &#x27;Functioning Day&#x27;])</pre></div></div></div><div class=\"sk-item\"><div class=\"sk-estimator sk-toggleable\"><input class=\"sk-toggleable__control sk-hidden--visually\" id=\"sk-estimator-id-19\" type=\"checkbox\" ><label for=\"sk-estimator-id-19\" class=\"sk-toggleable__label sk-toggleable__label-arrow\">YeoJohnsonTransformer</label><div class=\"sk-toggleable__content\"><pre>YeoJohnsonTransformer(variables=[&#x27;Temperature(°C)&#x27;, &#x27;Wind speed (m/s)&#x27;])</pre></div></div></div><div class=\"sk-item sk-dashed-wrapped\"><div class=\"sk-label-container\"><div class=\"sk-label sk-toggleable\"><input class=\"sk-toggleable__control sk-hidden--visually\" id=\"sk-estimator-id-20\" type=\"checkbox\" ><label for=\"sk-estimator-id-20\" class=\"sk-toggleable__label sk-toggleable__label-arrow\">discretizer_cont: SklearnTransformerWrapper</label><div class=\"sk-toggleable__content\"><pre>SklearnTransformerWrapper(transformer=KBinsDiscretizer(encode=&#x27;ordinal&#x27;,\n",
              "                                                       n_bins=10,\n",
              "                                                       strategy=&#x27;kmeans&#x27;),\n",
              "                          variables=[&#x27;Humidity(%)&#x27;, &#x27;Visibility (10m)&#x27;,\n",
              "                                     &#x27;Solar Radiation (MJ/m2)&#x27;, &#x27;Rainfall(mm)&#x27;,\n",
              "                                     &#x27;Snowfall (cm)&#x27;])</pre></div></div></div><div class=\"sk-parallel\"><div class=\"sk-parallel-item\"><div class=\"sk-item\"><div class=\"sk-label-container\"><div class=\"sk-label sk-toggleable\"><input class=\"sk-toggleable__control sk-hidden--visually\" id=\"sk-estimator-id-21\" type=\"checkbox\" ><label for=\"sk-estimator-id-21\" class=\"sk-toggleable__label sk-toggleable__label-arrow\">transformer: KBinsDiscretizer</label><div class=\"sk-toggleable__content\"><pre>KBinsDiscretizer(encode=&#x27;ordinal&#x27;, n_bins=10, strategy=&#x27;kmeans&#x27;)</pre></div></div></div><div class=\"sk-serial\"><div class=\"sk-item\"><div class=\"sk-estimator sk-toggleable\"><input class=\"sk-toggleable__control sk-hidden--visually\" id=\"sk-estimator-id-22\" type=\"checkbox\" ><label for=\"sk-estimator-id-22\" class=\"sk-toggleable__label sk-toggleable__label-arrow\">KBinsDiscretizer</label><div class=\"sk-toggleable__content\"><pre>KBinsDiscretizer(encode=&#x27;ordinal&#x27;, n_bins=10, strategy=&#x27;kmeans&#x27;)</pre></div></div></div></div></div></div></div></div><div class=\"sk-item sk-dashed-wrapped\"><div class=\"sk-label-container\"><div class=\"sk-label sk-toggleable\"><input class=\"sk-toggleable__control sk-hidden--visually\" id=\"sk-estimator-id-23\" type=\"checkbox\" ><label for=\"sk-estimator-id-23\" class=\"sk-toggleable__label sk-toggleable__label-arrow\">discretizer_hour: SklearnTransformerWrapper</label><div class=\"sk-toggleable__content\"><pre>SklearnTransformerWrapper(transformer=KBinsDiscretizer(encode=&#x27;ordinal&#x27;,\n",
              "                                                       n_bins=10,\n",
              "                                                       strategy=&#x27;kmeans&#x27;),\n",
              "                          variables=[&#x27;Hour&#x27;])</pre></div></div></div><div class=\"sk-parallel\"><div class=\"sk-parallel-item\"><div class=\"sk-item\"><div class=\"sk-label-container\"><div class=\"sk-label sk-toggleable\"><input class=\"sk-toggleable__control sk-hidden--visually\" id=\"sk-estimator-id-24\" type=\"checkbox\" ><label for=\"sk-estimator-id-24\" class=\"sk-toggleable__label sk-toggleable__label-arrow\">transformer: KBinsDiscretizer</label><div class=\"sk-toggleable__content\"><pre>KBinsDiscretizer(encode=&#x27;ordinal&#x27;, n_bins=10, strategy=&#x27;kmeans&#x27;)</pre></div></div></div><div class=\"sk-serial\"><div class=\"sk-item\"><div class=\"sk-estimator sk-toggleable\"><input class=\"sk-toggleable__control sk-hidden--visually\" id=\"sk-estimator-id-25\" type=\"checkbox\" ><label for=\"sk-estimator-id-25\" class=\"sk-toggleable__label sk-toggleable__label-arrow\">KBinsDiscretizer</label><div class=\"sk-toggleable__content\"><pre>KBinsDiscretizer(encode=&#x27;ordinal&#x27;, n_bins=10, strategy=&#x27;kmeans&#x27;)</pre></div></div></div></div></div></div></div></div><div class=\"sk-item\"><div class=\"sk-estimator sk-toggleable\"><input class=\"sk-toggleable__control sk-hidden--visually\" id=\"sk-estimator-id-26\" type=\"checkbox\" ><label for=\"sk-estimator-id-26\" class=\"sk-toggleable__label sk-toggleable__label-arrow\">OneHotEncoder</label><div class=\"sk-toggleable__content\"><pre>OneHotEncoder(drop_last=True, ignore_format=True,\n",
              "              variables=[&#x27;Seasons&#x27;, &#x27;Holiday&#x27;, &#x27;Humidity(%)&#x27;,\n",
              "                         &#x27;Visibility (10m)&#x27;, &#x27;Solar Radiation (MJ/m2)&#x27;,\n",
              "                         &#x27;Rainfall(mm)&#x27;, &#x27;Snowfall (cm)&#x27;, &#x27;Hour&#x27;])</pre></div></div></div><div class=\"sk-item\"><div class=\"sk-estimator sk-toggleable\"><input class=\"sk-toggleable__control sk-hidden--visually\" id=\"sk-estimator-id-27\" type=\"checkbox\" ><label for=\"sk-estimator-id-27\" class=\"sk-toggleable__label sk-toggleable__label-arrow\">Winsorizer</label><div class=\"sk-toggleable__content\"><pre>Winsorizer(tail=&#x27;both&#x27;, variables=[&#x27;Wind speed (m/s)&#x27;])</pre></div></div></div><div class=\"sk-item sk-dashed-wrapped\"><div class=\"sk-label-container\"><div class=\"sk-label sk-toggleable\"><input class=\"sk-toggleable__control sk-hidden--visually\" id=\"sk-estimator-id-28\" type=\"checkbox\" ><label for=\"sk-estimator-id-28\" class=\"sk-toggleable__label sk-toggleable__label-arrow\">Scalar: SklearnTransformerWrapper</label><div class=\"sk-toggleable__content\"><pre>SklearnTransformerWrapper(transformer=MinMaxScaler(),\n",
              "                          variables=[&#x27;Temperature(°C)&#x27;, &#x27;Wind speed (m/s)&#x27;])</pre></div></div></div><div class=\"sk-parallel\"><div class=\"sk-parallel-item\"><div class=\"sk-item\"><div class=\"sk-label-container\"><div class=\"sk-label sk-toggleable\"><input class=\"sk-toggleable__control sk-hidden--visually\" id=\"sk-estimator-id-29\" type=\"checkbox\" ><label for=\"sk-estimator-id-29\" class=\"sk-toggleable__label sk-toggleable__label-arrow\">transformer: MinMaxScaler</label><div class=\"sk-toggleable__content\"><pre>MinMaxScaler()</pre></div></div></div><div class=\"sk-serial\"><div class=\"sk-item\"><div class=\"sk-estimator sk-toggleable\"><input class=\"sk-toggleable__control sk-hidden--visually\" id=\"sk-estimator-id-30\" type=\"checkbox\" ><label for=\"sk-estimator-id-30\" class=\"sk-toggleable__label sk-toggleable__label-arrow\">MinMaxScaler</label><div class=\"sk-toggleable__content\"><pre>MinMaxScaler()</pre></div></div></div></div></div></div></div></div><div class=\"sk-item\"><div class=\"sk-estimator sk-toggleable\"><input class=\"sk-toggleable__control sk-hidden--visually\" id=\"sk-estimator-id-31\" type=\"checkbox\" ><label for=\"sk-estimator-id-31\" class=\"sk-toggleable__label sk-toggleable__label-arrow\">KNeighborsRegressor</label><div class=\"sk-toggleable__content\"><pre>KNeighborsRegressor()</pre></div></div></div></div></div></div></div></div></div></div></div></div>"
            ]
          },
          "metadata": {},
          "execution_count": 56
        }
      ]
    },
    {
      "cell_type": "markdown",
      "source": [
        "#### <font color = 'orange'>**Get Best Params**"
      ],
      "metadata": {
        "id": "6AOSE6kTYKMD"
      }
    },
    {
      "cell_type": "code",
      "metadata": {
        "execution": {
          "iopub.execute_input": "2021-10-06T19:03:18.764931Z",
          "iopub.status.busy": "2021-10-06T19:03:18.764568Z",
          "iopub.status.idle": "2021-10-06T19:03:25.998727Z",
          "shell.execute_reply": "2021-10-06T19:03:25.998346Z",
          "shell.execute_reply.started": "2021-10-06T19:03:18.764889Z"
        },
        "tags": [],
        "id": "Ap0fARYjAyJk",
        "colab": {
          "base_uri": "https://localhost:8080/"
        },
        "outputId": "fc971545-0107-4d37-f4cf-a2bb4215abca"
      },
      "source": [
        "\n",
        "print(grid_knnr_1.best_params_ )"
      ],
      "execution_count": 57,
      "outputs": [
        {
          "output_type": "stream",
          "name": "stdout",
          "text": [
            "{'KNNR__n_neighbors': 1, 'Scalar__transformer': MinMaxScaler(), 'discretizer_cont__transformer__n_bins': 2, 'discretizer_hour__transformer__n_bins': 2}\n"
          ]
        }
      ]
    },
    {
      "cell_type": "markdown",
      "source": [
        "#### <font color = 'orange'>**Saving Model**"
      ],
      "metadata": {
        "id": "gZfJaV8QYR3S"
      }
    },
    {
      "cell_type": "code",
      "metadata": {
        "execution": {
          "iopub.execute_input": "2021-10-06T19:03:25.999979Z",
          "iopub.status.busy": "2021-10-06T19:03:25.999586Z",
          "iopub.status.idle": "2021-10-06T19:03:26.002206Z",
          "shell.execute_reply": "2021-10-06T19:03:26.001853Z",
          "shell.execute_reply.started": "2021-10-06T19:03:25.999960Z"
        },
        "id": "yDW0l3V_EexB",
        "tags": []
      },
      "source": [
        "file_best_estimator_round1 = save_model_folder / 'knnr_round1_best_estimator.pkl'\n",
        "file_complete_grid_round1 = save_model_folder / 'knnr_round1_complete_grid.pkl'"
      ],
      "execution_count": 58,
      "outputs": []
    },
    {
      "cell_type": "code",
      "metadata": {
        "execution": {
          "iopub.execute_input": "2021-07-29T03:42:56.750344Z",
          "iopub.status.busy": "2021-07-29T03:42:56.749460Z",
          "iopub.status.idle": "2021-07-29T03:42:56.776061Z",
          "shell.execute_reply": "2021-07-29T03:42:56.775615Z",
          "shell.execute_reply.started": "2021-07-29T03:42:56.750245Z"
        },
        "id": "_1u-iZni4-u3",
        "tags": [],
        "colab": {
          "base_uri": "https://localhost:8080/"
        },
        "outputId": "e6dbe92a-9c43-42d1-c958-c857e63786b7"
      },
      "source": [
        "joblib.dump(grid_knnr_1.best_estimator_, file_best_estimator_round1)\n",
        "joblib.dump(grid_knnr_1, file_complete_grid_round1)"
      ],
      "execution_count": 59,
      "outputs": [
        {
          "output_type": "execute_result",
          "data": {
            "text/plain": [
              "['/content/drive/MyDrive/Data/models/ml_fall_2022/knnr_round1_complete_grid.pkl']"
            ]
          },
          "metadata": {},
          "execution_count": 59
        }
      ]
    },
    {
      "cell_type": "markdown",
      "source": [
        "#### <font color = 'orange'>**Load Saved Model**"
      ],
      "metadata": {
        "id": "-kSMAN1QZfIF"
      }
    },
    {
      "cell_type": "code",
      "metadata": {
        "execution": {
          "iopub.execute_input": "2021-07-29T07:36:59.016096Z",
          "iopub.status.busy": "2021-07-29T07:36:59.015968Z",
          "iopub.status.idle": "2021-07-29T07:36:59.024404Z",
          "shell.execute_reply": "2021-07-29T07:36:59.024126Z",
          "shell.execute_reply.started": "2021-07-29T07:36:59.016084Z"
        },
        "id": "dDBKsEUuEzZh",
        "tags": []
      },
      "source": [
        "loaded_best_estimator_round1 = joblib.load(file_best_estimator_round1)\n",
        "loaded_complete_grid_round1 = joblib.load(file_complete_grid_round1)"
      ],
      "execution_count": 60,
      "outputs": []
    },
    {
      "cell_type": "markdown",
      "source": [
        "### <font color = 'orange'>**Plot Learning Curve**"
      ],
      "metadata": {
        "id": "UlgwL5_OZ4dw"
      }
    },
    {
      "cell_type": "code",
      "metadata": {
        "execution": {
          "iopub.execute_input": "2021-07-29T07:37:02.351193Z",
          "iopub.status.busy": "2021-07-29T07:37:02.350309Z",
          "iopub.status.idle": "2021-07-29T07:37:03.842834Z",
          "shell.execute_reply": "2021-07-29T07:37:03.842475Z",
          "shell.execute_reply.started": "2021-07-29T07:37:02.351152Z"
        },
        "tags": [],
        "id": "pxp6KsZWj3RI",
        "colab": {
          "base_uri": "https://localhost:8080/",
          "height": 235
        },
        "outputId": "515524b4-b376-4469-b2ec-2535f9cb0001"
      },
      "source": [
        "plot_learning_curve(loaded_best_estimator_round1, 'Learning Curves KNNR', X_train, y_train, n_jobs=-1)"
      ],
      "execution_count": null,
      "outputs": [
        {
          "output_type": "execute_result",
          "data": {
            "text/plain": [
              "<module 'matplotlib.pyplot' from '/usr/local/lib/python3.7/dist-packages/matplotlib/pyplot.py'>"
            ]
          },
          "metadata": {},
          "execution_count": 81
        },
        {
          "output_type": "display_data",
          "data": {
            "text/plain": [
              "<Figure size 1440x360 with 3 Axes>"
            ],
            "image/png": "[encoded data removed]"
          },
          "metadata": {
            "needs_background": "light"
          }
        }
      ]
    },
    {
      "cell_type": "markdown",
      "source": [
        "### <font color = 'orange'>**Check Cross Validation Score and Train Score**"
      ],
      "metadata": {
        "id": "4vvj6OPzaJvU"
      }
    },
    {
      "cell_type": "code",
      "metadata": {
        "execution": {
          "iopub.execute_input": "2021-07-29T07:37:10.986245Z",
          "iopub.status.busy": "2021-07-29T07:37:10.985838Z",
          "iopub.status.idle": "2021-07-29T07:37:11.070071Z",
          "shell.execute_reply": "2021-07-29T07:37:11.069686Z",
          "shell.execute_reply.started": "2021-07-29T07:37:10.986208Z"
        },
        "id": "wdSNNrWw4cgH",
        "tags": [],
        "colab": {
          "base_uri": "https://localhost:8080/"
        },
        "outputId": "8ca9233d-2157-4ddf-ca51-f47208f70c51"
      },
      "source": [
        "#let's check the train scores\n",
        "print(f'Training dataset score: {loaded_best_estimator_round1.score(X_train,y_train)}')\n",
        "\n",
        "#let's check the cross validation score\n",
        "print(f'Validation dataset score: {loaded_complete_grid_round1 .best_score_}') "
      ],
      "execution_count": 62,
      "outputs": [
        {
          "output_type": "stream",
          "name": "stdout",
          "text": [
            "Training dataset score: 1.0\n",
            "Validation dataset score: 0.9999879254268029\n"
          ]
        }
      ]
    },
    {
      "cell_type": "markdown",
      "source": [
        "### **<font color ='orange'>Hyperparameter Tuning-Round 2**</font>\n"
      ],
      "metadata": {
        "id": "QivjmViHGcnK"
      }
    },
    {
      "cell_type": "markdown",
      "source": [
        "#### <font color='orange'> **Specify Param Grid**"
      ],
      "metadata": {
        "id": "0L9gukAVGcnK"
      }
    },
    {
      "cell_type": "code",
      "source": [
        "param_grid2={\n",
        "    'discretizer_cont__transformer__n_bins': [2],\n",
        "    'discretizer_hour__transformer__n_bins': [2],\n",
        "    'Scalar__transformer':[MinMaxScaler()],\n",
        "    'KNNR__n_neighbors': range(1,10),\n",
        "}\n",
        "\n",
        "grid_knnr_2= GridSearchCV(Bike_pipeline_1, param_grid2, \n",
        "                          cv=5, return_train_score=True)"
      ],
      "metadata": {
        "id": "UYl_tFGUGcnK"
      },
      "execution_count": null,
      "outputs": []
    },
    {
      "cell_type": "markdown",
      "source": [
        "#### <font color = 'Orange'>**Fit Model**"
      ],
      "metadata": {
        "id": "hMjWZLpEGcnK"
      }
    },
    {
      "cell_type": "code",
      "metadata": {
        "execution": {
          "iopub.execute_input": "2021-10-06T19:07:51.941649Z",
          "iopub.status.busy": "2021-10-06T19:07:51.941395Z",
          "iopub.status.idle": "2021-10-06T19:08:57.942180Z",
          "shell.execute_reply": "2021-10-06T19:08:57.941817Z",
          "shell.execute_reply.started": "2021-10-06T19:07:51.941615Z"
        },
        "tags": [],
        "id": "VwzPBJcvGcnL",
        "colab": {
          "base_uri": "https://localhost:8080/"
        },
        "outputId": "fdcc8cfc-aa2d-4b5e-af2b-1d39dbb6ac71"
      },
      "source": [
        "grid_knnr_2.fit(X_train, y_train)"
      ],
      "execution_count": null,
      "outputs": [
        {
          "output_type": "execute_result",
          "data": {
            "text/plain": [
              "GridSearchCV(cv=5,\n",
              "             estimator=Pipeline(steps=[('Var_drop',\n",
              "                                        DropFeatures(features_to_drop=['Dew '\n",
              "                                                                       'point '\n",
              "                                                                       'temperature(°C)',\n",
              "                                                                       'Date',\n",
              "                                                                       'Functioning '\n",
              "                                                                       'Day'])),\n",
              "                                       ('Yeo_jonson_trans',\n",
              "                                        YeoJohnsonTransformer(variables=['Temperature(°C)',\n",
              "                                                                         'Wind '\n",
              "                                                                         'speed '\n",
              "                                                                         '(m/s)'])),\n",
              "                                       ('discretizer_cont',\n",
              "                                        SklearnTransformerWrapper(transformer=KBinsDiscretizer(encode='ordinal',\n",
              "                                                                                               n_bins=10,\n",
              "                                                                                               strateg...\n",
              "                                                              '(m/s)'])),\n",
              "                                       ('Scalar',\n",
              "                                        SklearnTransformerWrapper(transformer=MinMaxScaler(),\n",
              "                                                                  variables=['Temperature(°C)',\n",
              "                                                                             'Wind '\n",
              "                                                                             'speed '\n",
              "                                                                             '(m/s)'])),\n",
              "                                       ('KNNR', KNeighborsRegressor())]),\n",
              "             param_grid={'KNNR__n_neighbors': range(1, 10),\n",
              "                         'Scalar__transformer': [MinMaxScaler()],\n",
              "                         'discretizer_cont__transformer__n_bins': [2],\n",
              "                         'discretizer_hour__transformer__n_bins': [2]},\n",
              "             return_train_score=True)"
            ]
          },
          "metadata": {},
          "execution_count": 84
        }
      ]
    },
    {
      "cell_type": "markdown",
      "source": [
        "#### <font color = 'orange'>**Get Best Params**"
      ],
      "metadata": {
        "id": "m_qeVq_CGcnL"
      }
    },
    {
      "cell_type": "code",
      "metadata": {
        "execution": {
          "iopub.execute_input": "2021-10-06T19:03:18.764931Z",
          "iopub.status.busy": "2021-10-06T19:03:18.764568Z",
          "iopub.status.idle": "2021-10-06T19:03:25.998727Z",
          "shell.execute_reply": "2021-10-06T19:03:25.998346Z",
          "shell.execute_reply.started": "2021-10-06T19:03:18.764889Z"
        },
        "tags": [],
        "id": "JNIokxtaGcnL",
        "colab": {
          "base_uri": "https://localhost:8080/"
        },
        "outputId": "e091a634-6205-4030-f3e1-c00ee2e0022c"
      },
      "source": [
        "#Let's check the best_parameters from GridSearchCv for our model\n",
        "print(grid_knnr_2.best_params_)"
      ],
      "execution_count": null,
      "outputs": [
        {
          "output_type": "stream",
          "name": "stdout",
          "text": [
            "{'KNNR__n_neighbors': 1, 'Scalar__transformer': MinMaxScaler(), 'discretizer_cont__transformer__n_bins': 2, 'discretizer_hour__transformer__n_bins': 2}\n"
          ]
        }
      ]
    },
    {
      "cell_type": "markdown",
      "source": [
        "#### <font color = 'orange'>**Round 2 Observations**\n",
        "\n",
        "Best parameters are the same as Round 1 "
      ],
      "metadata": {
        "id": "huj-hOTfGcnL"
      }
    },
    {
      "cell_type": "markdown",
      "source": [
        "### **<font color ='orange'>Hyperparameter Tuning-Round 3**</font>\n"
      ],
      "metadata": {
        "id": "j3YlFrapFNYr"
      }
    },
    {
      "cell_type": "markdown",
      "source": [
        "#### <font color='orange'> **Specify Param Grid**"
      ],
      "metadata": {
        "id": "CacW70SsFNYr"
      }
    },
    {
      "cell_type": "code",
      "source": [
        "param_grid3={\n",
        "    'Scalar__transformer':[MinMaxScaler(), StandardScaler],\n",
        "    'KNNR__n_neighbors': range(1,8),\n",
        "}\n",
        "\n",
        "grid_knnr_3= GridSearchCV(Bike_pipeline_1, param_grid3, \n",
        "                          cv=5, return_train_score=True)"
      ],
      "metadata": {
        "id": "ho3AgQjOFNYr"
      },
      "execution_count": null,
      "outputs": []
    },
    {
      "cell_type": "markdown",
      "source": [
        "#### <font color = 'Orange'>**Fit Model**"
      ],
      "metadata": {
        "id": "5Y1IoFVjFNYr"
      }
    },
    {
      "cell_type": "code",
      "metadata": {
        "execution": {
          "iopub.execute_input": "2021-10-06T19:07:51.941649Z",
          "iopub.status.busy": "2021-10-06T19:07:51.941395Z",
          "iopub.status.idle": "2021-10-06T19:08:57.942180Z",
          "shell.execute_reply": "2021-10-06T19:08:57.941817Z",
          "shell.execute_reply.started": "2021-10-06T19:07:51.941615Z"
        },
        "tags": [],
        "colab": {
          "base_uri": "https://localhost:8080/"
        },
        "outputId": "31e51b05-2e92-4e4c-9e17-a4d77f0bd4cf",
        "id": "Una2x2KRFNYr"
      },
      "source": [
        "grid_knnr_3.fit(X_train, y_train)"
      ],
      "execution_count": null,
      "outputs": [
        {
          "output_type": "stream",
          "name": "stderr",
          "text": [
            "/usr/local/lib/python3.7/dist-packages/sklearn/model_selection/_validation.py:372: FitFailedWarning: \n",
            "35 fits failed out of a total of 70.\n",
            "The score on these train-test partitions for these parameters will be set to nan.\n",
            "If these failures are not expected, you can try to debug them by setting error_score='raise'.\n",
            "\n",
            "Below are more details about the failures:\n",
            "--------------------------------------------------------------------------------\n",
            "35 fits failed with the following error:\n",
            "Traceback (most recent call last):\n",
            "  File \"/usr/local/lib/python3.7/dist-packages/sklearn/model_selection/_validation.py\", line 680, in _fit_and_score\n",
            "    estimator.fit(X_train, y_train, **fit_params)\n",
            "  File \"/usr/local/lib/python3.7/dist-packages/sklearn/pipeline.py\", line 390, in fit\n",
            "    Xt = self._fit(X, y, **fit_params_steps)\n",
            "  File \"/usr/local/lib/python3.7/dist-packages/sklearn/pipeline.py\", line 355, in _fit\n",
            "    **fit_params_steps[name],\n",
            "  File \"/usr/local/lib/python3.7/dist-packages/joblib/memory.py\", line 349, in __call__\n",
            "    return self.func(*args, **kwargs)\n",
            "  File \"/usr/local/lib/python3.7/dist-packages/sklearn/pipeline.py\", line 893, in _fit_transform_one\n",
            "    res = transformer.fit_transform(X, y, **fit_params)\n",
            "  File \"/usr/local/lib/python3.7/dist-packages/sklearn/base.py\", line 855, in fit_transform\n",
            "    return self.fit(X, y, **fit_params).transform(X)\n",
            "  File \"/usr/local/lib/python3.7/dist-packages/feature_engine/wrappers/wrappers.py\", line 212, in fit\n",
            "    self.transformer_ = clone(self.transformer)\n",
            "  File \"/usr/local/lib/python3.7/dist-packages/sklearn/base.py\", line 73, in clone\n",
            "    + \"scikit-learn estimator instead of a class.\"\n",
            "TypeError: Cannot clone object. You should provide an instance of scikit-learn estimator instead of a class.\n",
            "\n",
            "  warnings.warn(some_fits_failed_message, FitFailedWarning)\n",
            "/usr/local/lib/python3.7/dist-packages/sklearn/model_selection/_search.py:972: UserWarning: One or more of the test scores are non-finite: [0.99998741        nan 0.9999842         nan 0.99998088        nan\n",
            " 0.99997217        nan 0.99996179        nan 0.99995769        nan\n",
            " 0.99994544        nan]\n",
            "  category=UserWarning,\n",
            "/usr/local/lib/python3.7/dist-packages/sklearn/model_selection/_search.py:972: UserWarning: One or more of the train scores are non-finite: [1.                nan 0.99999581        nan 0.99999176        nan\n",
            " 0.99998551        nan 0.99997772        nan 0.99996968        nan\n",
            " 0.9999611         nan]\n",
            "  category=UserWarning,\n"
          ]
        },
        {
          "output_type": "execute_result",
          "data": {
            "text/plain": [
              "GridSearchCV(cv=5,\n",
              "             estimator=Pipeline(steps=[('Var_drop',\n",
              "                                        DropFeatures(features_to_drop=['Dew '\n",
              "                                                                       'point '\n",
              "                                                                       'temperature(°C)',\n",
              "                                                                       'Date',\n",
              "                                                                       'Functioning '\n",
              "                                                                       'Day'])),\n",
              "                                       ('Yeo_jonson_trans',\n",
              "                                        YeoJohnsonTransformer(variables=['Temperature(°C)',\n",
              "                                                                         'Wind '\n",
              "                                                                         'speed '\n",
              "                                                                         '(m/s)'])),\n",
              "                                       ('discretizer_cont',\n",
              "                                        SklearnTransformerWrapper(transformer=KBinsDiscretizer(encode='ordinal',\n",
              "                                                                                               n_bins=10,\n",
              "                                                                                               strateg...\n",
              "                                        Winsorizer(tail='both',\n",
              "                                                   variables=['Wind speed '\n",
              "                                                              '(m/s)'])),\n",
              "                                       ('Scalar',\n",
              "                                        SklearnTransformerWrapper(transformer=MinMaxScaler(),\n",
              "                                                                  variables=['Temperature(°C)',\n",
              "                                                                             'Wind '\n",
              "                                                                             'speed '\n",
              "                                                                             '(m/s)'])),\n",
              "                                       ('KNNR', KNeighborsRegressor())]),\n",
              "             param_grid={'KNNR__n_neighbors': range(1, 8),\n",
              "                         'Scalar__transformer': [MinMaxScaler(),\n",
              "                                                 <class 'sklearn.preprocessing._data.StandardScaler'>]},\n",
              "             return_train_score=True)"
            ]
          },
          "metadata": {},
          "execution_count": 102
        }
      ]
    },
    {
      "cell_type": "markdown",
      "source": [
        "#### <font color = 'orange'>**Get Best Params**"
      ],
      "metadata": {
        "id": "-X5b-CnuFNYr"
      }
    },
    {
      "cell_type": "code",
      "metadata": {
        "execution": {
          "iopub.execute_input": "2021-10-06T19:03:18.764931Z",
          "iopub.status.busy": "2021-10-06T19:03:18.764568Z",
          "iopub.status.idle": "2021-10-06T19:03:25.998727Z",
          "shell.execute_reply": "2021-10-06T19:03:25.998346Z",
          "shell.execute_reply.started": "2021-10-06T19:03:18.764889Z"
        },
        "tags": [],
        "colab": {
          "base_uri": "https://localhost:8080/"
        },
        "outputId": "77390e62-b9f6-4087-c82c-a88093366625",
        "id": "nShrRlTWFNYs"
      },
      "source": [
        "#Let's check the best_parameters from GridSearchCv for our model\n",
        "print(grid_knnr_3.best_params_ )"
      ],
      "execution_count": null,
      "outputs": [
        {
          "output_type": "stream",
          "name": "stdout",
          "text": [
            "{'KNNR__n_neighbors': 1, 'Scalar__transformer': MinMaxScaler()}\n"
          ]
        }
      ]
    },
    {
      "cell_type": "markdown",
      "source": [
        "#### <font color = 'orange'>**Saving Model**"
      ],
      "metadata": {
        "id": "DNC4lzBbFNYs"
      }
    },
    {
      "cell_type": "code",
      "metadata": {
        "execution": {
          "iopub.execute_input": "2021-10-06T19:03:25.999979Z",
          "iopub.status.busy": "2021-10-06T19:03:25.999586Z",
          "iopub.status.idle": "2021-10-06T19:03:26.002206Z",
          "shell.execute_reply": "2021-10-06T19:03:26.001853Z",
          "shell.execute_reply.started": "2021-10-06T19:03:25.999960Z"
        },
        "tags": [],
        "id": "SgKImRGlFNYs"
      },
      "source": [
        "file_best_estimator_round3 = save_model_folder / 'knnr_round3_best_estimator.pkl'\n",
        "file_complete_grid_round3 = save_model_folder / 'knnr_round3_complete_grid.pkl'"
      ],
      "execution_count": null,
      "outputs": []
    },
    {
      "cell_type": "code",
      "metadata": {
        "execution": {
          "iopub.execute_input": "2021-07-29T03:42:56.750344Z",
          "iopub.status.busy": "2021-07-29T03:42:56.749460Z",
          "iopub.status.idle": "2021-07-29T03:42:56.776061Z",
          "shell.execute_reply": "2021-07-29T03:42:56.775615Z",
          "shell.execute_reply.started": "2021-07-29T03:42:56.750245Z"
        },
        "tags": [],
        "colab": {
          "base_uri": "https://localhost:8080/"
        },
        "outputId": "7758d3fb-157d-415e-8cd5-6454836c2097",
        "id": "nv9HvCJaFNYs"
      },
      "source": [
        "joblib.dump(grid_knnr_3.best_estimator_, file_best_estimator_round3)\n",
        "joblib.dump(grid_knnr_3, file_complete_grid_round3)"
      ],
      "execution_count": null,
      "outputs": [
        {
          "output_type": "execute_result",
          "data": {
            "text/plain": [
              "['/content/drive/MyDrive/Data/models/ml_fall_2022/knnr_round3_complete_grid.pkl']"
            ]
          },
          "metadata": {},
          "execution_count": 105
        }
      ]
    },
    {
      "cell_type": "markdown",
      "source": [
        "#### <font color = 'orange'>**Load Saved Model**"
      ],
      "metadata": {
        "id": "qKyoLaJ3FNYs"
      }
    },
    {
      "cell_type": "code",
      "metadata": {
        "execution": {
          "iopub.execute_input": "2021-07-29T07:36:59.016096Z",
          "iopub.status.busy": "2021-07-29T07:36:59.015968Z",
          "iopub.status.idle": "2021-07-29T07:36:59.024404Z",
          "shell.execute_reply": "2021-07-29T07:36:59.024126Z",
          "shell.execute_reply.started": "2021-07-29T07:36:59.016084Z"
        },
        "tags": [],
        "id": "4pCk80kFFNYs"
      },
      "source": [
        "loaded_best_estimator_round3 = joblib.load(file_best_estimator_round3)\n",
        "loaded_complete_grid_round3 = joblib.load(file_complete_grid_round3)"
      ],
      "execution_count": null,
      "outputs": []
    },
    {
      "cell_type": "markdown",
      "source": [
        "### <font color = 'orange'>**Plot Learning Curve**"
      ],
      "metadata": {
        "id": "HhGYQkvuFNYs"
      }
    },
    {
      "cell_type": "code",
      "metadata": {
        "execution": {
          "iopub.execute_input": "2021-07-29T07:37:02.351193Z",
          "iopub.status.busy": "2021-07-29T07:37:02.350309Z",
          "iopub.status.idle": "2021-07-29T07:37:03.842834Z",
          "shell.execute_reply": "2021-07-29T07:37:03.842475Z",
          "shell.execute_reply.started": "2021-07-29T07:37:02.351152Z"
        },
        "tags": [],
        "colab": {
          "base_uri": "https://localhost:8080/",
          "height": 233
        },
        "outputId": "bd7955a3-ca46-41b5-8e0f-694c969d4f10",
        "id": "lkwsgMhWFNYs"
      },
      "source": [
        "plot_learning_curve(loaded_best_estimator_round3, 'Learning Curves KNNR', X_train, y_train, n_jobs=-1)"
      ],
      "execution_count": null,
      "outputs": [
        {
          "output_type": "execute_result",
          "data": {
            "text/plain": [
              "<module 'matplotlib.pyplot' from '/usr/local/lib/python3.7/dist-packages/matplotlib/pyplot.py'>"
            ]
          },
          "metadata": {},
          "execution_count": 107
        },
        {
          "output_type": "display_data",
          "data": {
            "text/plain": [
              "<Figure size 1440x360 with 3 Axes>"
            ],
            "image/png": "[encoded data removed]"
          },
          "metadata": {
            "needs_background": "light"
          }
        }
      ]
    },
    {
      "cell_type": "markdown",
      "source": [
        "### <font color = 'orange'>**Check Cross Validation Score and Train Score**"
      ],
      "metadata": {
        "id": "1M8fmAs8FNYt"
      }
    },
    {
      "cell_type": "code",
      "metadata": {
        "execution": {
          "iopub.execute_input": "2021-07-29T07:37:10.986245Z",
          "iopub.status.busy": "2021-07-29T07:37:10.985838Z",
          "iopub.status.idle": "2021-07-29T07:37:11.070071Z",
          "shell.execute_reply": "2021-07-29T07:37:11.069686Z",
          "shell.execute_reply.started": "2021-07-29T07:37:10.986208Z"
        },
        "tags": [],
        "colab": {
          "base_uri": "https://localhost:8080/"
        },
        "outputId": "c6b88c5a-37b3-485d-dbbe-96d4aabf6a69",
        "id": "Cf0gt0f5FNYt"
      },
      "source": [
        "#let's check the train scores\n",
        "print(loaded_best_estimator_round3.score(X_train,y_train))\n",
        "\n",
        "#let's check the cross validation score\n",
        "print(loaded_complete_grid_round3.best_score_) "
      ],
      "execution_count": null,
      "outputs": [
        {
          "output_type": "stream",
          "name": "stdout",
          "text": [
            "1.0\n",
            "0.9999874133358698\n"
          ]
        }
      ]
    },
    {
      "cell_type": "markdown",
      "source": [
        "### <font color = 'orange'>**Model Conclusion**\n",
        "\n",
        "*Tried* 3 different variations of hyperparamet tunning all 3 gave me the same result, I will test my model using Round 1 "
      ],
      "metadata": {
        "id": "8zx6536YJDdb"
      }
    },
    {
      "cell_type": "markdown",
      "source": [
        "## <font color = 'orange'>**Performance on Test Data**"
      ],
      "metadata": {
        "id": "g9BXcJQNExcf"
      }
    },
    {
      "cell_type": "code",
      "source": [
        "print(f'Test data accuracy: {loaded_best_estimator_round1.score(X_test, y_test)}')"
      ],
      "metadata": {
        "id": "Im4i8EXRE7Bf",
        "colab": {
          "base_uri": "https://localhost:8080/"
        },
        "outputId": "d36801a3-0e8a-4316-b812-fc424da08aec"
      },
      "execution_count": 63,
      "outputs": [
        {
          "output_type": "stream",
          "name": "stdout",
          "text": [
            "Test data accuracy: 0.9999878751682847\n"
          ]
        }
      ]
    },
    {
      "cell_type": "markdown",
      "source": [
        "### <font color = 'orange'>**Final Thoughts**\n",
        "\n",
        "Very happy that with this model we can predict how many bikes will be rented on a given day with 99.99% accuracy"
      ],
      "metadata": {
        "id": "bYEgTT7bKBa4"
      }
    }
  ]
}
